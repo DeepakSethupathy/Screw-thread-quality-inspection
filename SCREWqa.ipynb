{
 "cells": [
  {
   "cell_type": "code",
   "execution_count": 10,
   "metadata": {},
   "outputs": [],
   "source": [
    "import cv2\n",
    "import numpy as np\n",
    "import math as m\n",
    "import matplotlib.pyplot as plt\n",
    "%matplotlib inline"
   ]
  },
  {
   "cell_type": "code",
   "execution_count": 11,
   "metadata": {},
   "outputs": [],
   "source": [
    "def nothing(x):\n",
    "    print(x)\n",
    "    \n",
    "#Close the pop up images before running next cell. Skip to last cell for output"
   ]
  },
  {
   "cell_type": "code",
   "execution_count": 12,
   "metadata": {},
   "outputs": [
    {
     "data": {
      "text/plain": [
       "-1"
      ]
     },
     "execution_count": 12,
     "metadata": {},
     "output_type": "execute_result"
    }
   ],
   "source": [
    "src_img = cv2.imread('screw11.jpg',1)\n",
    "cv2.imshow('read',src_img)\n",
    "cv2.waitKey(0)\n",
    "gauss = cv2.GaussianBlur(src_img,(5,5),6)\n",
    "gray = cv2.cvtColor(gauss,cv2.COLOR_BGR2GRAY)\n",
    "cv2.imshow('img',gray)\n",
    "cv2.waitKey(0)\n",
    "\n",
    "#Below code creates a track bar to set the parameters for canny edge detection. I have hard coded the value for users convinence \n",
    "\n",
    "# cv2.namedWindow('Edge Detect')\n",
    "# cv2.createTrackbar('Thresh1','Edge Detect',0,255,nothing)\n",
    "# cv2.createTrackbar('Thresh2','Edge Detect',0,255,nothing)\n",
    "# t1 = t2 = 0\n",
    "# while(1):\n",
    "#     canny = cv2.Canny(gray,t1,t2)\n",
    "#     cv2.imshow('Edge Detect',canny)\n",
    "#     k = cv2.waitKey(1) & 0xFF\n",
    "#     if k == 27:#Esc Key for terminating\n",
    "#         break\n",
    "#     t1 = cv2.getTrackbarPos('Thresh1','Edge Detect')\n",
    "#     t2 = cv2.getTrackbarPos('Thresh2','Edge Detect')\n",
    "t1=63\n",
    "t2=95\n",
    "canny = cv2.Canny(gray,t1,t2)\n",
    "cv2.imshow('Edge Detect',canny)\n",
    "cv2.waitKey(0) "
   ]
  },
  {
   "cell_type": "code",
   "execution_count": 13,
   "metadata": {},
   "outputs": [
    {
     "data": {
      "text/plain": [
       "(370, 1929)"
      ]
     },
     "execution_count": 13,
     "metadata": {},
     "output_type": "execute_result"
    }
   ],
   "source": [
    "cv2.imshow('canny',canny)\n",
    "cv2.waitKey(0)\n",
    "canny.shape"
   ]
  },
  {
   "cell_type": "code",
   "execution_count": 14,
   "metadata": {},
   "outputs": [
    {
     "name": "stdout",
     "output_type": "stream",
     "text": [
      "(370, 1929)\n"
     ]
    }
   ],
   "source": [
    "img2 = canny.copy()\n",
    "#img2 = cv2.cvtColor(img2,cv2.COLOR_BGR2GRAY)\n",
    "cv2.imshow('cropped',img2)\n",
    "cv2.waitKey(0)\n",
    "a1 = np.zeros((img2.shape[0],img2.shape[1]),np.uint8)\n",
    "for c in range(img2.shape[1]):\n",
    "    for r in range(img2.shape[0]):\n",
    "        if img2[r,c]==255:\n",
    "            a1[r,c]=255\n",
    "            break\n",
    "cv2.imshow('Upper Pixels', a1)\n",
    "cv2.waitKey(0)\n",
    "for c in range(img2.shape[1]-1,0,-1):\n",
    "    for r in range(img2.shape[0]-1,0,-1):\n",
    "        if img2[r,c]==255:\n",
    "            a1[r,c]=255\n",
    "            break\n",
    "cv2.imshow('Lower pixels', a1)\n",
    "cv2.waitKey(0)\n",
    "cv2.imwrite('canny extracted.jpg',a1)\n",
    "print(img2.shape)"
   ]
  },
  {
   "cell_type": "code",
   "execution_count": 15,
   "metadata": {},
   "outputs": [
    {
     "data": {
      "text/plain": [
       "True"
      ]
     },
     "execution_count": 15,
     "metadata": {},
     "output_type": "execute_result"
    }
   ],
   "source": [
    "img2 = img2[:,1000:1400]\n",
    "img3 = img2.copy()\n",
    "a = np.zeros((img3.shape[0],img3.shape[1]),np.uint8)\n",
    "for c in range(img3.shape[1]):\n",
    "    for r in range(img3.shape[0]):\n",
    "        if img3[r,c]==255:\n",
    "            a[r,c]=255\n",
    "            break\n",
    "cv2.imshow('Upper Pixels', a)\n",
    "cv2.waitKey(0)\n",
    "for c in range(img3.shape[1]-1,0,-1):\n",
    "    for r in range(img3.shape[0]-1,0,-1):\n",
    "        if img3[r,c]==255:\n",
    "            a[r,c]=255\n",
    "            break\n",
    "cv2.imshow('Lower pixels', a)\n",
    "cv2.waitKey(0)\n",
    "cv2.imwrite('pixel extraction.jpg',a)"
   ]
  },
  {
   "cell_type": "code",
   "execution_count": 16,
   "metadata": {},
   "outputs": [
    {
     "data": {
      "text/plain": [
       "True"
      ]
     },
     "execution_count": 16,
     "metadata": {},
     "output_type": "execute_result"
    }
   ],
   "source": [
    "cv2.imshow('img',a)\n",
    "cv2.waitKey(0)\n",
    "for i in range(1,a.shape[0]-1):\n",
    "    for j in range(1,a.shape[1]-1):\n",
    "        if a[i][j]==255 and a[i-1][j]==0 and a[i+1][j]==0 and a[i][j+1]==0 and a[i][j-1]==0 and a[i-1][j-1]==0 and a[i+1][j-1]==0 and a[i+1][j+1]==0 and a[i-1][j+1]==0:\n",
    "            a[i][j]=0\n",
    "\n",
    "for i in range(1,a.shape[0]-1):\n",
    "    for j in range(1,a.shape[1]-1):\n",
    "        if a[i][j]==0 and a[i-1][j]==255 and a[i+1][j]==255 and a[i][j+1]==255 and a[i][j-1]==255 and a[i-1][j-1]==255 and a[i+1][j-1]==255 and a[i+1][j+1]==255 and a[i-1][j+1]==255:\n",
    "            a[i][j]=255\n",
    "\n",
    "cv2.imwrite('noiseless.jpg',a)"
   ]
  },
  {
   "cell_type": "code",
   "execution_count": 17,
   "metadata": {},
   "outputs": [
    {
     "name": "stdout",
     "output_type": "stream",
     "text": [
      "107\n",
      "249\n",
      "178\n"
     ]
    }
   ],
   "source": [
    "img4 = a.copy()\n",
    "for r in range(img4.shape[0]):\n",
    "    if 255 in img4[r,:]:\n",
    "        min2 = r\n",
    "        break\n",
    "for r in range(img4.shape[0]-1,-1,-1):\n",
    "    if 255 in img4[r,:]:\n",
    "        max2 = r\n",
    "        break\n",
    "print(min2)\n",
    "print(max2)\n",
    "mid = int((min2+max2)/2)\n",
    "print(mid)"
   ]
  },
  {
   "cell_type": "code",
   "execution_count": 18,
   "metadata": {},
   "outputs": [
    {
     "data": {
      "text/plain": [
       "-1"
      ]
     },
     "execution_count": 18,
     "metadata": {},
     "output_type": "execute_result"
    }
   ],
   "source": [
    "img4[int(mid),:] = 255\n",
    "cv2.imshow('midline',img4)\n",
    "cv2.waitKey(0)"
   ]
  },
  {
   "cell_type": "code",
   "execution_count": 19,
   "metadata": {},
   "outputs": [],
   "source": [
    "upper = []\n",
    "for col in range(img4.shape[1]):\n",
    "    for row in range(mid):\n",
    "        if int(img4[row,col]) == 255:\n",
    "            tup = (row,col)\n",
    "            upper.append(tup)\n",
    "            tup = ()\n",
    "\n",
    "#print(upper)  "
   ]
  },
  {
   "cell_type": "code",
   "execution_count": 20,
   "metadata": {},
   "outputs": [],
   "source": [
    "lower = []\n",
    "for col in range(img4.shape[1]-1,-1,-1):\n",
    "    for row in range(mid+1,img4.shape[0]):\n",
    "        if int(img4[row,col]) == 255:\n",
    "            tup = (row,col)\n",
    "            lower.append(tup)\n",
    "            tup = ()\n",
    "\n",
    "#print(lower)  "
   ]
  },
  {
   "cell_type": "code",
   "execution_count": 21,
   "metadata": {},
   "outputs": [],
   "source": [
    "direction_upper = []\n",
    "for x in range(len(upper)-1):\n",
    "    if upper[x][0] > upper[x+1][0]:\n",
    "        tup = (1,upper[x][0],upper[x][1])\n",
    "        direction_upper.append(tup)\n",
    "        tup = ()\n",
    "    elif upper[x][0] < upper[x+1][0]:\n",
    "        tup = (0,upper[x][0],upper[x][1])\n",
    "        direction_upper.append(tup)\n",
    "        tup = ()\n",
    "    else:\n",
    "        continue\n",
    "\n",
    "#print(direction_upper)"
   ]
  },
  {
   "cell_type": "code",
   "execution_count": 22,
   "metadata": {},
   "outputs": [],
   "source": [
    "crest_upper = []\n",
    "root_upper = []\n",
    "for x in range(len(direction_upper)-4):\n",
    "    if direction_upper[x][0] == 1 and direction_upper[x+1][0] == 0 and direction_upper[x+2][0] == 0 and direction_upper[x+3][0] == 0 and direction_upper[x+4][0] == 0:\n",
    "        tup = (direction_upper[x][1],direction_upper[x][2])\n",
    "        crest_upper.append(tup)\n",
    "        tup = ()\n",
    "    elif direction_upper[x][0] == 0 and direction_upper[x+1][0] == 1 and direction_upper[x+2][0] == 1:\n",
    "        tup = (direction_upper[x][1],direction_upper[x][2])\n",
    "        root_upper.append(tup)\n",
    "        tup = ()"
   ]
  },
  {
   "cell_type": "code",
   "execution_count": 23,
   "metadata": {},
   "outputs": [
    {
     "name": "stdout",
     "output_type": "stream",
     "text": [
      "[(109, 21), (109, 50), (109, 81), (108, 112), (109, 167), (108, 200), (108, 232), (108, 260), (109, 287), (109, 315), (109, 347), (109, 378)]\n",
      "[(122, 8), (122, 38), (122, 71), (122, 97), (121, 126), (122, 156), (123, 187), (122, 216), (122, 246), (122, 277), (122, 307), (121, 336), (121, 366)]\n"
     ]
    }
   ],
   "source": [
    "print(crest_upper)\n",
    "print(root_upper)"
   ]
  },
  {
   "cell_type": "code",
   "execution_count": 24,
   "metadata": {},
   "outputs": [
    {
     "data": {
      "text/plain": [
       "-1"
      ]
     },
     "execution_count": 24,
     "metadata": {},
     "output_type": "execute_result"
    }
   ],
   "source": [
    "img5 = img4.copy()\n",
    "for coord in crest_upper:\n",
    "    cv2.circle(img5,(coord[1],coord[0]),5,155,1)\n",
    "cv2.imshow('crestpoints',img5)\n",
    "cv2.waitKey(0)"
   ]
  },
  {
   "cell_type": "code",
   "execution_count": 25,
   "metadata": {},
   "outputs": [
    {
     "data": {
      "text/plain": [
       "-1"
      ]
     },
     "execution_count": 25,
     "metadata": {},
     "output_type": "execute_result"
    }
   ],
   "source": [
    "img6 = img4.copy()\n",
    "for coord in root_upper:\n",
    "    cv2.circle(img6,(coord[1],coord[0]),5,155,1)\n",
    "cv2.imshow('rootpoints',img6)\n",
    "cv2.waitKey(0)"
   ]
  },
  {
   "cell_type": "code",
   "execution_count": 26,
   "metadata": {},
   "outputs": [],
   "source": [
    "(Y1,X1) = crest_upper[0]\n",
    "(Y2,X2) = crest_upper[-1]"
   ]
  },
  {
   "cell_type": "code",
   "execution_count": 27,
   "metadata": {},
   "outputs": [],
   "source": [
    "upper_crest_group = []\n",
    "upper_root_group = []\n",
    "for coord in upper:\n",
    "    (Y3,X3) = coord\n",
    "    pd = (((X2-X1)*(Y1-Y3)) - ((X1-X3)*(Y2-Y1)))/m.sqrt((X2-X1)**2 + (Y2-Y1)**2)\n",
    "    if pd<1 and pd>-1:\n",
    "        tup = (Y3,X3)\n",
    "        upper_crest_group.append(tup)\n",
    "        tup = ()\n",
    "\n",
    "(Y1,X1) = root_upper[0]\n",
    "(Y2,X2) = root_upper[-1]\n",
    "for coord in upper:\n",
    "    (Y3,X3) = coord\n",
    "    pd = (((X2-X1)*(Y1-Y3)) - ((X1-X3)*(Y2-Y1)))/m.sqrt((X2-X1)**2 + (Y2-Y1)**2)\n",
    "    if pd<1 and pd>-1:\n",
    "        tup = (Y3,X3)\n",
    "        upper_root_group.append(tup)\n",
    "        tup = ()"
   ]
  },
  {
   "cell_type": "code",
   "execution_count": 28,
   "metadata": {},
   "outputs": [
    {
     "data": {
      "text/plain": [
       "-1"
      ]
     },
     "execution_count": 28,
     "metadata": {},
     "output_type": "execute_result"
    }
   ],
   "source": [
    "img7 = img4.copy()\n",
    "for coord in upper_crest_group:\n",
    "    cv2.circle(img7,(coord[1],coord[0]),5,155,1)\n",
    "cv2.imshow('crestpoints',img7)\n",
    "cv2.waitKey(0)\n",
    "\n",
    "img8 = img4.copy()\n",
    "for coord in upper_root_group:\n",
    "    cv2.circle(img8,(coord[1],coord[0]),5,155,1)\n",
    "cv2.imshow('rootpoints',img8)\n",
    "cv2.waitKey(0)"
   ]
  },
  {
   "cell_type": "code",
   "execution_count": 29,
   "metadata": {
    "scrolled": true
   },
   "outputs": [
    {
     "name": "stdout",
     "output_type": "stream",
     "text": [
      "40\n",
      "47\n"
     ]
    }
   ],
   "source": [
    "print(len(upper_crest_group))\n",
    "print(len(upper_root_group))"
   ]
  },
  {
   "cell_type": "code",
   "execution_count": 30,
   "metadata": {},
   "outputs": [],
   "source": [
    "group = 1\n",
    "upper_crest_clustered = []\n",
    "upper_crest_clustered.append((upper_crest_group[0][0],upper_crest_group[0][1],group))\n",
    "for i in range(len(upper_crest_group)-1):\n",
    "    (Y1,X1) = upper_crest_group[i]\n",
    "    (Y2,X2) = upper_crest_group[i+1]\n",
    "    pd = m.sqrt((X2-X1)**2 + (Y2-Y1)**2)\n",
    "    if pd<15:\n",
    "        upper_crest_clustered.append((Y2,X2,group))\n",
    "    else:\n",
    "        group = group+1\n",
    "        upper_crest_clustered.append((Y2,X2,group))"
   ]
  },
  {
   "cell_type": "code",
   "execution_count": 31,
   "metadata": {},
   "outputs": [
    {
     "data": {
      "text/plain": [
       "[1, 2, 3, 4, 5, 6, 7, 8, 9, 10, 11, 12, 13, 14]"
      ]
     },
     "execution_count": 31,
     "metadata": {},
     "output_type": "execute_result"
    }
   ],
   "source": [
    "list2 = []\n",
    "for i in range(len(upper_crest_clustered)):\n",
    "    list2.append(upper_crest_clustered[i][2])\n",
    "list2 = list(set(list2))\n",
    "list2"
   ]
  },
  {
   "cell_type": "code",
   "execution_count": 32,
   "metadata": {},
   "outputs": [
    {
     "name": "stdout",
     "output_type": "stream",
     "text": [
      "[(109, 0), (108, 25), (108, 55), (108, 84), (107, 114), (109, 138), (108, 173), (107, 203), (108, 232), (107, 262), (108, 292), (108, 322), (108, 352), (108, 382)]\n"
     ]
    }
   ],
   "source": [
    "list3 = []\n",
    "final_upper_crests = []\n",
    "for i in list2:\n",
    "    for coord in upper_crest_clustered:\n",
    "        if coord[2] == i:\n",
    "            list3.append(coord)\n",
    "    cd1 = list3[0]\n",
    "    cd2 = list3[-1]\n",
    "    mpo = int((cd1[1]+cd2[1])/2)\n",
    "    for x in range(img4.shape[0]):\n",
    "        if img4[x,mpo]==255:\n",
    "            final_upper_crests.append((x,mpo))\n",
    "            list3 = []\n",
    "            break\n",
    "print(final_upper_crests)    "
   ]
  },
  {
   "cell_type": "code",
   "execution_count": 33,
   "metadata": {},
   "outputs": [
    {
     "data": {
      "text/plain": [
       "-1"
      ]
     },
     "execution_count": 33,
     "metadata": {},
     "output_type": "execute_result"
    }
   ],
   "source": [
    "img9 = img4.copy()\n",
    "for coord in final_upper_crests:\n",
    "    cv2.circle(img9,(coord[1],coord[0]),4,200,1)\n",
    "cv2.imshow('new_crests',img9)\n",
    "cv2.waitKey(0)"
   ]
  },
  {
   "cell_type": "code",
   "execution_count": 34,
   "metadata": {},
   "outputs": [],
   "source": [
    "group1 = 1\n",
    "upper_root_clustered = []\n",
    "upper_root_clustered.append((upper_root_group[0][0],upper_root_group[0][1],group1))\n",
    "for i in range(len(upper_root_group)-1):\n",
    "    (Y1,X1) = upper_root_group[i]\n",
    "    (Y2,X2) = upper_root_group[i+1]\n",
    "    pd = m.sqrt((X2-X1)**2 + (Y2-Y1)**2)\n",
    "    if pd<10:\n",
    "        upper_root_clustered.append((Y2,X2,group1))\n",
    "    else:\n",
    "        group1 = group1+1\n",
    "        upper_root_clustered.append((Y2,X2,group1))"
   ]
  },
  {
   "cell_type": "code",
   "execution_count": 35,
   "metadata": {},
   "outputs": [
    {
     "data": {
      "text/plain": [
       "[1, 2, 3, 4, 5, 6, 7, 8, 9, 10, 11, 12, 13, 14]"
      ]
     },
     "execution_count": 35,
     "metadata": {},
     "output_type": "execute_result"
    }
   ],
   "source": [
    "list6 = []\n",
    "for i in range(len(upper_root_clustered)):\n",
    "    list6.append(upper_root_clustered[i][2])\n",
    "list6 = list(set(list6))\n",
    "list6"
   ]
  },
  {
   "cell_type": "code",
   "execution_count": 36,
   "metadata": {},
   "outputs": [
    {
     "name": "stdout",
     "output_type": "stream",
     "text": [
      "[(124, 11), (123, 40), (123, 70), (124, 99), (123, 129), (123, 158), (124, 188), (123, 217), (122, 246), (122, 277), (122, 307), (122, 337), (122, 367), (122, 397)]\n"
     ]
    }
   ],
   "source": [
    "list7 = []\n",
    "final_upper_roots = []\n",
    "for i in list6:\n",
    "    for coord in upper_root_clustered:\n",
    "        if coord[2] == i:\n",
    "            list7.append(coord)\n",
    "    cd1 = list7[0]\n",
    "    cd2 = list7[-1]\n",
    "    mpo = int((cd1[1]+cd2[1])/2)\n",
    "    for x in range(mid-1,0,-1):\n",
    "        if img4[x,mpo]==255:\n",
    "            final_upper_roots.append((x,mpo))\n",
    "            list7 = []\n",
    "            break\n",
    "print(final_upper_roots)    "
   ]
  },
  {
   "cell_type": "code",
   "execution_count": 37,
   "metadata": {},
   "outputs": [
    {
     "data": {
      "text/plain": [
       "-1"
      ]
     },
     "execution_count": 37,
     "metadata": {},
     "output_type": "execute_result"
    }
   ],
   "source": [
    "img10 = img4.copy()\n",
    "for coord in final_upper_crests:\n",
    "    cv2.circle(img10,(coord[1],coord[0]),4,200,1)\n",
    "\n",
    "for coord in final_upper_roots:\n",
    "    cv2.circle(img10,(coord[1],coord[0]),4,200,1)\n",
    "\n",
    "cv2.imshow('final_image',img10)\n",
    "cv2.waitKey(0)"
   ]
  },
  {
   "cell_type": "code",
   "execution_count": 38,
   "metadata": {},
   "outputs": [
    {
     "data": {
      "text/plain": [
       "-1"
      ]
     },
     "execution_count": 38,
     "metadata": {},
     "output_type": "execute_result"
    }
   ],
   "source": [
    "img11 = img10.copy()\n",
    "cv2.line(img11,(final_upper_crests[0][1],final_upper_crests[0][0]),(final_upper_crests[-1][1],final_upper_crests[-1][0]),200,1)\n",
    "cv2.line(img11,(final_upper_roots[0][1],final_upper_roots[0][0]),(final_upper_roots[-1][1],final_upper_roots[-1][0]),200,1)\n",
    "cv2.imshow('lines',img11)\n",
    "cv2.waitKey(0)"
   ]
  },
  {
   "cell_type": "code",
   "execution_count": 39,
   "metadata": {},
   "outputs": [],
   "source": [
    "direction_lower = []\n",
    "for x in range(len(lower)-1):\n",
    "    if lower[x][0] > lower[x+1][0]:\n",
    "        tup = (1,lower[x][0],lower[x][1])\n",
    "        direction_lower.append(tup)\n",
    "        tup = ()\n",
    "    elif lower[x][0] < lower[x+1][0]:\n",
    "        tup = (0,lower[x][0],lower[x][1])\n",
    "        direction_lower.append(tup)\n",
    "        tup = ()\n",
    "    else:\n",
    "        continue\n",
    "\n",
    "#print(direction_lower)"
   ]
  },
  {
   "cell_type": "code",
   "execution_count": 40,
   "metadata": {},
   "outputs": [],
   "source": [
    "root_lower = []\n",
    "crest_lower = []\n",
    "for x in range(len(direction_lower)-4):\n",
    "    if direction_lower[x][0] == 1 and direction_lower[x+1][0] == 0 and direction_lower[x+2][0] == 0 and direction_lower[x+3][0] == 0 and direction_lower[x+4][0] == 0:\n",
    "        tup = (direction_lower[x][1],direction_lower[x][2])\n",
    "        root_lower.append(tup)\n",
    "        tup = ()\n",
    "    elif direction_lower[x][0] == 0 and direction_lower[x+1][0] == 1 and direction_lower[x+2][0] == 1:\n",
    "        tup = (direction_lower[x][1],direction_lower[x][2])\n",
    "        crest_lower.append(tup)\n",
    "        tup = ()\n"
   ]
  },
  {
   "cell_type": "code",
   "execution_count": 41,
   "metadata": {},
   "outputs": [
    {
     "name": "stdout",
     "output_type": "stream",
     "text": [
      "[(235, 386), (235, 355), (235, 324), (235, 296), (234, 264), (234, 236), (233, 205), (234, 176), (234, 147), (235, 117), (234, 87), (234, 57), (233, 27)]\n",
      "[(246, 395), (247, 371), (247, 343), (247, 313), (247, 284), (246, 252), (247, 219), (246, 194), (246, 161), (247, 130), (247, 102), (247, 74), (247, 45), (248, 11)]\n"
     ]
    }
   ],
   "source": [
    "print(root_lower)\n",
    "print(crest_lower)"
   ]
  },
  {
   "cell_type": "code",
   "execution_count": 42,
   "metadata": {},
   "outputs": [],
   "source": [
    "(Y1,X1) = root_lower[0]\n",
    "(Y2,X2) = root_lower[-1]\n",
    "lower_root_group = []\n",
    "for coord in lower:\n",
    "    (Y3,X3) = coord\n",
    "    pd = (((X2-X1)*(Y1-Y3)) - ((X1-X3)*(Y2-Y1)))/m.sqrt((X2-X1)**2 + (Y2-Y1)**2)\n",
    "    if pd<1 and pd>-1:\n",
    "        tup = (Y3,X3)\n",
    "        lower_root_group.append(tup)\n",
    "        tup = ()\n",
    "\n",
    "(Y1,X1) = crest_lower[0]\n",
    "(Y2,X2) = crest_lower[-1]\n",
    "lower_crest_group = []\n",
    "for coord in lower:\n",
    "    (Y3,X3) = coord\n",
    "    pd = (((X2-X1)*(Y1-Y3)) - ((X1-X3)*(Y2-Y1)))/m.sqrt((X2-X1)**2 + (Y2-Y1)**2)\n",
    "    if pd<1 and pd>-1:\n",
    "        tup = (Y3,X3)\n",
    "        lower_crest_group.append(tup)\n",
    "        tup = ()"
   ]
  },
  {
   "cell_type": "code",
   "execution_count": 43,
   "metadata": {},
   "outputs": [],
   "source": [
    "group2 = 1\n",
    "lower_root_clustered = []\n",
    "lower_root_clustered.append((lower_root_group[0][0],lower_root_group[0][1],group2))\n",
    "for i in range(len(lower_root_group)-1):\n",
    "    (Y1,X1) = lower_root_group[i]\n",
    "    (Y2,X2) = lower_root_group[i+1]\n",
    "    pd = m.sqrt((X2-X1)**2 + (Y2-Y1)**2)\n",
    "    if pd<7:\n",
    "        lower_root_clustered.append((Y2,X2,group2))\n",
    "    else:\n",
    "        group2 = group2+1\n",
    "        lower_root_clustered.append((Y2,X2,group2))"
   ]
  },
  {
   "cell_type": "code",
   "execution_count": 44,
   "metadata": {},
   "outputs": [
    {
     "data": {
      "text/plain": [
       "[1, 2, 3, 4, 5, 6, 7, 8, 9, 10, 11, 12, 13]"
      ]
     },
     "execution_count": 44,
     "metadata": {},
     "output_type": "execute_result"
    }
   ],
   "source": [
    "list10 = []\n",
    "for i in range(len(lower_root_clustered)):\n",
    "    list10.append(lower_root_clustered[i][2])\n",
    "list10 = list(set(list10))\n",
    "list10"
   ]
  },
  {
   "cell_type": "code",
   "execution_count": 45,
   "metadata": {},
   "outputs": [
    {
     "name": "stdout",
     "output_type": "stream",
     "text": [
      "[(234, 384), (234, 353), (234, 322), (234, 293), (233, 263), (233, 233), (232, 204), (233, 173), (233, 144), (233, 114), (233, 85), (233, 55), (232, 26)]\n"
     ]
    }
   ],
   "source": [
    "list11 = []\n",
    "final_lower_roots = []\n",
    "for i in list10:\n",
    "    for coord in lower_root_clustered:\n",
    "        if coord[2] == i:\n",
    "            list11.append(coord)\n",
    "    cd1 = list11[0]\n",
    "    cd2 = list11[-1]\n",
    "    mpo = int((cd1[1]+cd2[1])/2)\n",
    "    for x in range(mid+1,img4.shape[0]):\n",
    "        if img4[x,mpo]==255:\n",
    "            final_lower_roots.append((x,mpo))\n",
    "            list11 = []\n",
    "            break\n",
    "print(final_lower_roots)   "
   ]
  },
  {
   "cell_type": "code",
   "execution_count": 46,
   "metadata": {},
   "outputs": [
    {
     "data": {
      "text/plain": [
       "-1"
      ]
     },
     "execution_count": 46,
     "metadata": {},
     "output_type": "execute_result"
    }
   ],
   "source": [
    "img12 = img10.copy()\n",
    "for coord in final_lower_roots:\n",
    "    cv2.circle(img12,(coord[1],coord[0]),4,200,1)\n",
    "cv2.imshow('final_lower_roots',img12)\n",
    "cv2.waitKey(0)"
   ]
  },
  {
   "cell_type": "code",
   "execution_count": 47,
   "metadata": {},
   "outputs": [],
   "source": [
    "group3 = 1\n",
    "lower_crest_clustered = []\n",
    "lower_crest_clustered.append((lower_crest_group[0][0],lower_crest_group[0][1],group3))\n",
    "for i in range(len(lower_crest_group)-1):\n",
    "    (Y1,X1) = lower_crest_group[i]\n",
    "    (Y2,X2) = lower_crest_group[i+1]\n",
    "    pd = m.sqrt((X2-X1)**2 + (Y2-Y1)**2)\n",
    "    if pd<11:\n",
    "        lower_crest_clustered.append((Y2,X2,group3))\n",
    "    else:\n",
    "        group3 = group3+1\n",
    "        lower_crest_clustered.append((Y2,X2,group3))"
   ]
  },
  {
   "cell_type": "code",
   "execution_count": 48,
   "metadata": {},
   "outputs": [
    {
     "data": {
      "text/plain": [
       "[1, 2, 3, 4, 5, 6, 7, 8, 9, 10, 11, 12, 13, 14]"
      ]
     },
     "execution_count": 48,
     "metadata": {},
     "output_type": "execute_result"
    }
   ],
   "source": [
    "list14 = []\n",
    "for i in range(len(lower_crest_clustered)):\n",
    "    list14.append(lower_crest_clustered[i][2])\n",
    "list14 = list(set(list14))\n",
    "list14"
   ]
  },
  {
   "cell_type": "code",
   "execution_count": 49,
   "metadata": {},
   "outputs": [],
   "source": [
    "list15 = []\n",
    "final_lower_crests = []\n",
    "for i in list14:\n",
    "    for coord in lower_crest_clustered:\n",
    "        if coord[2] == i:\n",
    "            list15.append(coord)\n",
    "    cd1 = list15[0]\n",
    "    cd2 = list15[-1]\n",
    "    mpo = int((cd1[1]+cd2[1])/2)\n",
    "    for x in range(img4.shape[0]-1,-1,-1):\n",
    "        if img4[x,mpo]==255:\n",
    "            final_lower_crests.append((x,mpo))\n",
    "            list15 = []\n",
    "            break\n",
    "#print(final_lower_crests)   "
   ]
  },
  {
   "cell_type": "code",
   "execution_count": 50,
   "metadata": {},
   "outputs": [
    {
     "data": {
      "text/plain": [
       "(370, 400)"
      ]
     },
     "execution_count": 50,
     "metadata": {},
     "output_type": "execute_result"
    }
   ],
   "source": [
    "img4.shape"
   ]
  },
  {
   "cell_type": "code",
   "execution_count": 51,
   "metadata": {},
   "outputs": [
    {
     "data": {
      "text/plain": [
       "True"
      ]
     },
     "execution_count": 51,
     "metadata": {},
     "output_type": "execute_result"
    }
   ],
   "source": [
    "img13 = img12.copy()\n",
    "for coord in final_lower_crests:\n",
    "    cv2.circle(img13,(coord[1],coord[0]),4,200,1)\n",
    "cv2.imshow('final_lower_crests',img13)\n",
    "cv2.waitKey(0)\n",
    "cv2.imwrite('root&crests.jpg',img13)"
   ]
  },
  {
   "cell_type": "code",
   "execution_count": 52,
   "metadata": {},
   "outputs": [
    {
     "data": {
      "text/plain": [
       "-1"
      ]
     },
     "execution_count": 52,
     "metadata": {},
     "output_type": "execute_result"
    }
   ],
   "source": [
    "img14 = img13.copy()\n",
    "cv2.line(img14,(final_upper_crests[0][1],final_upper_crests[0][0]),(final_upper_crests[-1][1],final_upper_crests[-1][0]),200,1)\n",
    "cv2.line(img14,(final_upper_roots[0][1],final_upper_roots[0][0]),(final_upper_roots[-1][1],final_upper_roots[-1][0]),200,1)\n",
    "cv2.line(img14,(final_lower_roots[0][1],final_lower_roots[0][0]),(final_lower_roots[-1][1],final_lower_roots[-1][0]),200,1)\n",
    "cv2.line(img14,(final_lower_crests[0][1],final_lower_crests[0][0]),(final_lower_crests[-1][1],final_lower_crests[-1][0]),200,1)\n",
    "cv2.imshow('lines',img14)\n",
    "cv2.waitKey(0)"
   ]
  },
  {
   "cell_type": "code",
   "execution_count": 53,
   "metadata": {},
   "outputs": [
    {
     "name": "stdout",
     "output_type": "stream",
     "text": [
      "Mean pitch in pixel distance:29.57759456701729 pixels\n"
     ]
    }
   ],
   "source": [
    "pitch_list = []\n",
    "for i in range(len(final_upper_crests)-1):\n",
    "    X1 = final_upper_crests[i][0]\n",
    "    Y1 = final_upper_crests[i][1]\n",
    "    X2 = final_upper_crests[i+1][0]\n",
    "    Y2 = final_upper_crests[i+1][1]\n",
    "    dist = m.sqrt((X2-X1)**2 + (Y2-Y1)**2)\n",
    "    pitch_list.append(dist)\n",
    "for i in range(len(final_upper_roots)-1):\n",
    "    X1 = final_upper_roots[i][0]\n",
    "    Y1 = final_upper_roots[i][1]\n",
    "    X2 = final_upper_roots[i+1][0]\n",
    "    Y2 = final_upper_roots[i+1][1]\n",
    "    dist = m.sqrt((X2-X1)**2 + (Y2-Y1)**2)\n",
    "    pitch_list.append(dist)\n",
    "for i in range(len(final_lower_roots)-1):\n",
    "    X1 = final_lower_roots[i][0]\n",
    "    Y1 = final_lower_roots[i][1]\n",
    "    X2 = final_lower_roots[i+1][0]\n",
    "    Y2 = final_lower_roots[i+1][1]\n",
    "    dist = m.sqrt((X2-X1)**2 + (Y2-Y1)**2)\n",
    "    pitch_list.append(dist)\n",
    "for i in range(len(final_lower_crests)-1):\n",
    "    X1 = final_lower_crests[i][0]\n",
    "    Y1 = final_lower_crests[i][1]\n",
    "    X2 = final_lower_crests[i+1][0]\n",
    "    Y2 = final_lower_crests[i+1][1]\n",
    "    dist = m.sqrt((X2-X1)**2 + (Y2-Y1)**2)\n",
    "    pitch_list.append(dist)\n",
    "\n",
    "print(\"Mean pitch in pixel distance:\"+str(sum(pitch_list)/len(pitch_list))+\" pixels\")    "
   ]
  },
  {
   "cell_type": "code",
   "execution_count": 54,
   "metadata": {},
   "outputs": [
    {
     "data": {
      "text/plain": [
       "(872, 1193, 3)"
      ]
     },
     "execution_count": 54,
     "metadata": {},
     "output_type": "execute_result"
    }
   ],
   "source": [
    "conversion = cv2.imread('mm_measure6.jpg',1)\n",
    "cv2.imshow('crop',conversion)\n",
    "cv2.waitKey(0)\n",
    "conversion.shape"
   ]
  },
  {
   "cell_type": "code",
   "execution_count": 55,
   "metadata": {},
   "outputs": [
    {
     "name": "stdout",
     "output_type": "stream",
     "text": [
      "Pitch of the screw:1.2396309541918396 mm\n"
     ]
    }
   ],
   "source": [
    "#1193 pixels = 50mm\n",
    "pixels_per_metric = 50/1193\n",
    "mean_pitch = sum(pitch_list)/len(pitch_list)\n",
    "print(\"Pitch of the screw:\"+str(pixels_per_metric * mean_pitch)+\" mm\")"
   ]
  },
  {
   "cell_type": "code",
   "execution_count": 56,
   "metadata": {},
   "outputs": [
    {
     "name": "stdout",
     "output_type": "stream",
     "text": [
      "11\n",
      "1907\n",
      "Length of the screw:79.46353730092206 mm\n"
     ]
    }
   ],
   "source": [
    "temp = canny.copy()\n",
    "\n",
    "for c in range(temp.shape[1]):\n",
    "    if 255 in temp[:,c]:\n",
    "        min2 = c\n",
    "        break\n",
    "for c in range(temp.shape[1]-1,-1,-1):\n",
    "    if 255 in temp[:,c]:\n",
    "        max2 = c\n",
    "        break\n",
    "print(min2)\n",
    "print(max2)\n",
    "print('Length of the screw:'+str((max2-min2)*pixels_per_metric)+' mm')"
   ]
  },
  {
   "cell_type": "code",
   "execution_count": 57,
   "metadata": {},
   "outputs": [
    {
     "name": "stdout",
     "output_type": "stream",
     "text": [
      "Depth of screw threads:0.6187646990857084 mm\n"
     ]
    }
   ],
   "source": [
    "depth_list = []\n",
    "\n",
    "Y1,X1 = final_upper_roots[0][0] , final_upper_roots[0][1]\n",
    "Y2,X2 = final_upper_roots[-1][0] , final_upper_roots[-1][1]\n",
    "for coord in final_upper_crests:\n",
    "    Y3,X3 = coord[0],coord[1]\n",
    "    pd = (((X2-X1)*(Y1-Y3)) - ((X1-X3)*(Y2-Y1)))/m.sqrt((X2-X1)**2 + (Y2-Y1)**2)\n",
    "    depth_list.append(abs(pd))\n",
    "\n",
    "Y1,X1 = final_lower_crests[0][0] , final_lower_crests[0][1]\n",
    "Y2,X2 = final_lower_crests[-1][0] , final_lower_crests[-1][1]\n",
    "for coord in final_lower_roots:\n",
    "    Y3,X3 = coord[0],coord[1]\n",
    "    pd = (((X2-X1)*(Y1-Y3)) - ((X1-X3)*(Y2-Y1)))/m.sqrt((X2-X1)**2 + (Y2-Y1)**2)\n",
    "    depth_list.append(abs(pd))\n",
    "mean_depth = sum(depth_list)/len(depth_list)\n",
    "print(\"Depth of screw threads:\"+str(mean_depth*pixels_per_metric)+\" mm\")"
   ]
  },
  {
   "cell_type": "code",
   "execution_count": 58,
   "metadata": {},
   "outputs": [
    {
     "name": "stdout",
     "output_type": "stream",
     "text": [
      "Major Diameter of screw:5.851208853791424 mm\n"
     ]
    }
   ],
   "source": [
    "major_dia_list = []\n",
    "Y1,X1 = final_lower_crests[0][0] , final_lower_crests[0][1]\n",
    "Y2,X2 = final_lower_crests[-1][0] , final_lower_crests[-1][1]\n",
    "for coord in final_upper_crests:\n",
    "    Y3,X3 = coord[0],coord[1]\n",
    "    pd = (((X2-X1)*(Y1-Y3)) - ((X1-X3)*(Y2-Y1)))/m.sqrt((X2-X1)**2 + (Y2-Y1)**2)\n",
    "    major_dia_list.append(abs(pd))\n",
    "mean_major_dia = sum(major_dia_list)/len(major_dia_list)\n",
    "print(\"Major Diameter of screw:\"+str(mean_major_dia*pixels_per_metric)+\" mm\")"
   ]
  },
  {
   "cell_type": "code",
   "execution_count": 59,
   "metadata": {},
   "outputs": [
    {
     "name": "stdout",
     "output_type": "stream",
     "text": [
      "Minor Diameter of screw:4.618683649874743 mm\n"
     ]
    }
   ],
   "source": [
    "minor_dia_list = []\n",
    "Y1,X1 = final_lower_roots[0][0] , final_lower_roots[0][1]\n",
    "Y2,X2 = final_lower_roots[-1][0] , final_lower_roots[-1][1]\n",
    "for coord in final_upper_roots:\n",
    "    Y3,X3 = coord[0],coord[1]\n",
    "    pd = (((X2-X1)*(Y1-Y3)) - ((X1-X3)*(Y2-Y1)))/m.sqrt((X2-X1)**2 + (Y2-Y1)**2)\n",
    "    minor_dia_list.append(abs(pd))\n",
    "mean_minor_dia = sum(minor_dia_list)/len(minor_dia_list)\n",
    "print(\"Minor Diameter of screw:\"+str(mean_minor_dia*pixels_per_metric)+\" mm\")"
   ]
  },
  {
   "cell_type": "code",
   "execution_count": 60,
   "metadata": {},
   "outputs": [
    {
     "name": "stdout",
     "output_type": "stream",
     "text": [
      "4.613679455620007\n"
     ]
    }
   ],
   "source": [
    "print((mean_major_dia*pixels_per_metric) - 2*(mean_depth*pixels_per_metric))"
   ]
  },
  {
   "cell_type": "code",
   "execution_count": 61,
   "metadata": {},
   "outputs": [
    {
     "name": "stdout",
     "output_type": "stream",
     "text": [
      "[25.432641426936428, 24.2584121015626, 25.74356761730138, 26.565051177077997, 24.590117166196016, 29.989364816050283, 22.75097634278764, 27.71850162818336, 23.535800945779528, 27.71850162818336, 26.565051177077997, 28.830968312390375]\n",
      "Thread angle of the thread:26.141579528293914°\n"
     ]
    }
   ],
   "source": [
    "included_angle_list = []\n",
    "for i in range(min(len(final_lower_roots),len(final_lower_crests))-1):\n",
    "    (y1,x1) = (final_lower_crests[i][0],final_lower_crests[i][1])\n",
    "    (y2,x2) = (final_lower_crests[i+1][0],final_lower_crests[i+1][1])\n",
    "    (y3,x3) = (final_lower_roots[i+1][0],final_lower_roots[i+1][1])\n",
    "    m1 = (y1-y3)/(x1-x3)\n",
    "    m2 = (y2-y3)/(x2-x3)\n",
    "    tan_theta = abs((m1-m2)/(1+m1*m2))\n",
    "    included_angle_list.append(tan_theta)\n",
    "included_angle_list = [m.atan(y)*180/m.pi for y in included_angle_list]\n",
    "print(included_angle_list)\n",
    "print(\"Thread angle of the thread:\"+str(sum(included_angle_list)/len(included_angle_list))+u\"\\u00b0\")"
   ]
  },
  {
   "cell_type": "code",
   "execution_count": 62,
   "metadata": {},
   "outputs": [
    {
     "data": {
      "text/plain": [
       "-1"
      ]
     },
     "execution_count": 62,
     "metadata": {},
     "output_type": "execute_result"
    }
   ],
   "source": [
    "img2 = canny.copy()\n",
    "img2 = img2[:,1500:]\n",
    "cv2.imshow('canny',img2)\n",
    "cv2.waitKey(0)"
   ]
  },
  {
   "cell_type": "code",
   "execution_count": 63,
   "metadata": {},
   "outputs": [
    {
     "data": {
      "text/plain": [
       "-1"
      ]
     },
     "execution_count": 63,
     "metadata": {},
     "output_type": "execute_result"
    }
   ],
   "source": [
    "img3 = img2.copy()\n",
    "a = np.zeros((img3.shape[0],img3.shape[1]))\n",
    "for c in range(img3.shape[1]):\n",
    "    for r in range(img3.shape[0]):\n",
    "        if img3[r,c]==255:\n",
    "            a[r,c]=255\n",
    "            break\n",
    "cv2.imshow('Upper Pixels', a)\n",
    "cv2.waitKey(0)\n",
    "for c in range(img3.shape[1]-1,0,-1):\n",
    "    for r in range(img3.shape[0]-1,0,-1):\n",
    "        if img3[r,c]==255:\n",
    "            a[r,c]=255\n",
    "            break\n",
    "cv2.imshow('Lower pixels', a)\n",
    "cv2.waitKey(0)"
   ]
  },
  {
   "cell_type": "code",
   "execution_count": 64,
   "metadata": {},
   "outputs": [
    {
     "data": {
      "text/plain": [
       "-1"
      ]
     },
     "execution_count": 64,
     "metadata": {},
     "output_type": "execute_result"
    }
   ],
   "source": [
    "cv2.imshow('thinned',a)\n",
    "cv2.waitKey(0)"
   ]
  },
  {
   "cell_type": "code",
   "execution_count": 65,
   "metadata": {},
   "outputs": [
    {
     "name": "stdout",
     "output_type": "stream",
     "text": [
      "(370, 429)\n",
      "330\n"
     ]
    }
   ],
   "source": [
    "img4 = a.copy()\n",
    "print(img4.shape)\n",
    "for i in range(img4.shape[0]-1,-1,-1):\n",
    "    if 255 in img4[i,:]:\n",
    "        i1 = i\n",
    "        break\n",
    "print(i1)"
   ]
  },
  {
   "cell_type": "code",
   "execution_count": 66,
   "metadata": {},
   "outputs": [
    {
     "data": {
      "text/plain": [
       "-1"
      ]
     },
     "execution_count": 66,
     "metadata": {},
     "output_type": "execute_result"
    }
   ],
   "source": [
    "img4 = a.copy()\n",
    "lines = []\n",
    "for j in range(img4.shape[1]):\n",
    "    if img4[i1,j] == 255:\n",
    "        lines.append((i1,j))\n",
    "for coord in lines:\n",
    "    cv2.circle(img4,(coord[1],coord[0]),5,200,1)\n",
    "cv2.imshow('image',img4)\n",
    "cv2.waitKey(0)"
   ]
  },
  {
   "cell_type": "code",
   "execution_count": 67,
   "metadata": {},
   "outputs": [
    {
     "name": "stdout",
     "output_type": "stream",
     "text": [
      "(370, 429)\n",
      "31\n"
     ]
    }
   ],
   "source": [
    "img5 = a.copy()\n",
    "print(img5.shape)\n",
    "for i in range(img4.shape[0]):\n",
    "    if 255 in img4[i,:]:\n",
    "        i2 = i\n",
    "        break\n",
    "print(i2)"
   ]
  },
  {
   "cell_type": "code",
   "execution_count": 68,
   "metadata": {},
   "outputs": [
    {
     "data": {
      "text/plain": [
       "-1"
      ]
     },
     "execution_count": 68,
     "metadata": {},
     "output_type": "execute_result"
    }
   ],
   "source": [
    "img5 = a.copy()\n",
    "lines2 = []\n",
    "for j in range(img5.shape[1]):\n",
    "    if img5[i2,j] == 255:\n",
    "        lines2.append((i2,j))\n",
    "while len(lines2)<=3:\n",
    "    lines2 = []\n",
    "    i2 = i2+1\n",
    "    for j in range(img5.shape[1]):\n",
    "        if img5[i2,j] == 255:\n",
    "            lines2.append((i2,j))\n",
    "    \n",
    "for coord in lines2:\n",
    "    cv2.circle(img5,(coord[1],coord[0]),5,200,1)\n",
    "cv2.imshow('image',img5)\n",
    "cv2.waitKey(0)"
   ]
  },
  {
   "cell_type": "code",
   "execution_count": 69,
   "metadata": {},
   "outputs": [
    {
     "name": "stdout",
     "output_type": "stream",
     "text": [
      "The collar diameter of the screw:4.697019146909225 mm\n"
     ]
    }
   ],
   "source": [
    "collar_dia_list = []\n",
    "y1,x1 = lines[0][0],lines[0][1]\n",
    "y2,x2 = lines[-1][0],lines[-1][1]\n",
    "for coord in lines2:\n",
    "    y3,x3 = coord[0],coord[1]\n",
    "    pd = (((X2-X1)*(Y1-Y3)) - ((X1-X3)*(Y2-Y1)))/m.sqrt((X2-X1)**2 + (Y2-Y1)**2)\n",
    "    collar_dia_list.append(abs(pd))\n",
    "    \n",
    "print(\"The collar diameter of the screw:\"+str(sum(collar_dia_list)/len(collar_dia_list)*pixels_per_metric)+\" mm\")"
   ]
  },
  {
   "cell_type": "code",
   "execution_count": 70,
   "metadata": {},
   "outputs": [
    {
     "name": "stdout",
     "output_type": "stream",
     "text": [
      "(370, 429)\n",
      "(370, 179)\n"
     ]
    }
   ],
   "source": [
    "img6 = a.copy()\n",
    "cv2.imshow('image',img6)\n",
    "cv2.waitKey(0)\n",
    "print(img6.shape)\n",
    "img6 = img6[:,250:]\n",
    "cv2.imshow('image',img6)\n",
    "cv2.waitKey(0)\n",
    "print(img6.shape)"
   ]
  },
  {
   "cell_type": "code",
   "execution_count": 71,
   "metadata": {},
   "outputs": [
    {
     "data": {
      "text/plain": [
       "-1"
      ]
     },
     "execution_count": 71,
     "metadata": {},
     "output_type": "execute_result"
    }
   ],
   "source": [
    "head = cv2.imread('screw_head7.jpg',1)\n",
    "head = cv2.cvtColor(head,cv2.COLOR_BGR2GRAY)\n",
    "cv2.imshow('head',head)\n",
    "cv2.waitKey(0)\n",
    "head.shape\n",
    "_,thresh1 = cv2.threshold(head,150,250,cv2.THRESH_BINARY)\n",
    "cv2.imshow('head',thresh1)\n",
    "cv2.waitKey(0)"
   ]
  },
  {
   "cell_type": "code",
   "execution_count": 72,
   "metadata": {},
   "outputs": [
    {
     "data": {
      "text/plain": [
       "-1"
      ]
     },
     "execution_count": 72,
     "metadata": {},
     "output_type": "execute_result"
    }
   ],
   "source": [
    "head2 = head.copy()\n",
    "\n",
    "#Below code creates a track bar to set the parameters for canny edge detection. I have hard coded the value for users convinence \n",
    "\n",
    "# cv2.namedWindow('Shape Detect')\n",
    "# cv2.createTrackbar('Thresh1','Shape Detect',0,255,nothing)\n",
    "# cv2.createTrackbar('Thresh2','Shape Detect',0,255,nothing)\n",
    "# t3 = t4 = 0\n",
    "# while(1):\n",
    "#     #_,thresh1 = cv2.threshold(head,t3,t4,cv2.THRESH_TOZERO)\n",
    "#     head_canny = cv2.Canny(head2,t3,t4)\n",
    "#     cv2.imshow('Shape Detect',head_canny)\n",
    "#     z = cv2.waitKey(1) & 0xFF\n",
    "#     if z == 27:#Esc Key for terminating\n",
    "#         break\n",
    "#     t3 = cv2.getTrackbarPos('Thresh1','Shape Detect')\n",
    "#     t4 = cv2.getTrackbarPos('Thresh2','Shape Detect')\n",
    "# cv2.destroyAllWindows()\n",
    "\n",
    "t3=128\n",
    "t4=49\n",
    "head_canny = cv2.Canny(head2,t3,t4)\n",
    "cv2.imshow('Shape Detect',head_canny)\n",
    "cv2.waitKey(0)"
   ]
  },
  {
   "cell_type": "code",
   "execution_count": 73,
   "metadata": {},
   "outputs": [
    {
     "name": "stdout",
     "output_type": "stream",
     "text": [
      "(251, 13)\n",
      "(253, 538)\n",
      "(521, 556)\n",
      "(1202, 266, 3)\n",
      "Across corner of the screw:11.842191191954619 mm\n",
      "486\n",
      "(521, 556)\n",
      "Across flat of screw:10.330827067669173 mm\n"
     ]
    }
   ],
   "source": [
    "fin_img = head_canny.copy()\n",
    "for y in range(fin_img.shape[1]):\n",
    "    for x in range(fin_img.shape[0]):\n",
    "        if (fin_img[x,y])==255:\n",
    "            min_x,min_y = x,y\n",
    "            break\n",
    "        \n",
    "for y in range(fin_img.shape[1]-1,-1,-1):\n",
    "    for x in range(fin_img.shape[0]):\n",
    "        if (fin_img[x,y])==255:\n",
    "            max_x,max_y = x,y\n",
    "            break\n",
    "    \n",
    "print((max_x,max_y))\n",
    "print((min_x,min_y))\n",
    "cop = fin_img.copy()\n",
    "cv2.line(cop,(min_y,min_x),(max_y,max_x),200,1)\n",
    "cv2.imshow('lined',cop)\n",
    "cv2.waitKey(0)\n",
    "print(cop.shape)\n",
    "cv2.imwrite('acrcor.jpg',cop)\n",
    "ppm_meas = cv2.imread('mm_measure7.jpg',1)\n",
    "print(ppm_meas.shape)\n",
    "#456 pixels = 12mm\n",
    "ppm = 6/ppm_meas.shape[1] \n",
    "print(\"Across corner of the screw:\"+str(m.sqrt((max_x-min_x)**2 + (max_y-min_y)**2) * ppm)+\" mm\")\n",
    "for i in range(cop.shape[0]-1,-1,-1):\n",
    "    if 255 in cop[i,:]:\n",
    "        i1 = i\n",
    "        break\n",
    "print(i1)\n",
    "img15 = cop.copy()\n",
    "print(img15.shape)\n",
    "lines = []\n",
    "for j in range(img15.shape[1]):\n",
    "    if img15[i1,j] == 255:\n",
    "        lines.append((i1,j))\n",
    "while len(lines)<=3:\n",
    "    lines = []\n",
    "    i1 = i1+1\n",
    "    for j in range(img15.shape[1]):\n",
    "        if img15[i1,j] == 255:\n",
    "            lines.append((i1,j))\n",
    "for coord in lines:\n",
    "    cv2.circle(img15,(coord[1],coord[0]),5,200,1)\n",
    "cv2.imshow('image',img15)\n",
    "cv2.waitKey(0)\n",
    "cv2\n",
    "\n",
    "for i in range(cop.shape[0]):\n",
    "    if 255 in cop[i,:]:\n",
    "        i2 = i\n",
    "        break\n",
    "#print(i2)\n",
    "img16 = img15.copy()\n",
    "lines2 = []\n",
    "for j in range(img16.shape[1]):\n",
    "    if img16[i2,j] == 255:\n",
    "        lines2.append((i2,j))\n",
    "while len(lines2)<=3:\n",
    "    lines2 = []\n",
    "    i2 = i2+1\n",
    "    for j in range(img16.shape[1]):\n",
    "        if img16[i2,j] == 255:\n",
    "            lines2.append((i2,j))\n",
    "    \n",
    "for coord in lines2:\n",
    "    cv2.circle(img16,(coord[1],coord[0]),5,200,1)\n",
    "cv2.imshow('image',img16)\n",
    "cv2.waitKey(0)\n",
    "cv2.imwrite('acrflt.jpg',img16)\n",
    "\n",
    "across_flat_list = []\n",
    "\n",
    "Y1,X1 = lines[0][0] , lines[0][1]\n",
    "Y2,X2 = lines[-1][0] , lines[-1][1]\n",
    "for coord in lines2:\n",
    "    Y3,X3 = coord[0],coord[1]\n",
    "    pd = (((X2-X1)*(Y1-Y3)) - ((X1-X3)*(Y2-Y1)))/m.sqrt((X2-X1)**2 + (Y2-Y1)**2)\n",
    "    across_flat_list.append(abs(pd))\n",
    "    \n",
    "mean_across_flat = sum(across_flat_list)/len(across_flat_list)\n",
    "print(\"Across flat of screw:\"+str(mean_across_flat*ppm)+\" mm\")"
   ]
  },
  {
   "cell_type": "code",
   "execution_count": 74,
   "metadata": {},
   "outputs": [
    {
     "name": "stdout",
     "output_type": "stream",
     "text": [
      "(109, 0) (124, 11)\n"
     ]
    }
   ],
   "source": [
    "pitchby4 = (sum(pitch_list)/len(pitch_list))/4\n",
    "\n",
    "print(final_upper_crests[0],final_upper_roots[0])"
   ]
  },
  {
   "cell_type": "code",
   "execution_count": 75,
   "metadata": {},
   "outputs": [
    {
     "data": {
      "text/plain": [
       "-1"
      ]
     },
     "execution_count": 75,
     "metadata": {},
     "output_type": "execute_result"
    }
   ],
   "source": [
    "cv2.imshow('image',img10)\n",
    "cv2.waitKey(0)"
   ]
  },
  {
   "cell_type": "code",
   "execution_count": 76,
   "metadata": {},
   "outputs": [],
   "source": [
    "temp_img = img10.copy()\n",
    "temp_img = cv2.cvtColor(temp_img,cv2.COLOR_GRAY2BGR)\n",
    "cv2.circle(temp_img,(int((final_upper_crests[0][1]+final_upper_roots[0][1])/2),int((final_upper_crests[0][0]+final_upper_roots[0][0])/2)),3,(0,255,0),1)\n",
    "cv2.imshow('temp_img',temp_img)\n",
    "cv2.waitKey(0)\n",
    "temp_img = cv2.cvtColor(temp_img,cv2.COLOR_BGR2GRAY)"
   ]
  },
  {
   "cell_type": "code",
   "execution_count": 77,
   "metadata": {},
   "outputs": [
    {
     "name": "stdout",
     "output_type": "stream",
     "text": [
      "[(110, 2)]\n",
      "[(121, 7)]\n"
     ]
    }
   ],
   "source": [
    "p1 = []\n",
    "for x in range(final_upper_crests[0][0]+1,int((final_upper_crests[0][0]+final_upper_roots[0][0])/2)):\n",
    "    for y in range(final_upper_crests[0][1]+1,int((final_upper_crests[0][1]+final_upper_roots[0][1])/2)):\n",
    "        if int(temp_img[x][y]) == 255:\n",
    "            p1.append((x,y))\n",
    "print(p1)\n",
    "\n",
    "p1 = []\n",
    "for x in range(int((final_upper_crests[0][0]+final_upper_roots[0][0])/2)+1,final_upper_roots[0][0]):\n",
    "    for y in range(int((final_upper_crests[0][1]+final_upper_roots[0][1])/2)+1,final_upper_roots[0][1]):\n",
    "        if int(temp_img[x][y]) == 255:\n",
    "            p1.append((x,y))\n",
    "print(p1)"
   ]
  },
  {
   "cell_type": "code",
   "execution_count": 78,
   "metadata": {},
   "outputs": [
    {
     "data": {
      "text/plain": [
       "True"
      ]
     },
     "execution_count": 78,
     "metadata": {},
     "output_type": "execute_result"
    }
   ],
   "source": [
    "cv2.imwrite('thinned.jpg',a)\n",
    "cv2.imwrite('midp.jpg',temp_img)"
   ]
  },
  {
   "cell_type": "code",
   "execution_count": 79,
   "metadata": {},
   "outputs": [
    {
     "name": "stdout",
     "output_type": "stream",
     "text": [
      "Pitch of the screw:1.2396309541918396 mm\n",
      "Length of the screw:79.46353730092206 mm\n",
      "Depth of screw threads:0.6187646990857084 mm\n",
      "Major Diameter of screw:5.851208853791424 mm\n",
      "Minor Diameter of screw:4.618683649874743 mm\n",
      "Thread angle of the thread:26.141579528293914°\n",
      "The collar diameter of the screw:4.697019146909225 mm\n",
      "Across corner of the screw:11.842191191954619 mm\n",
      "Across flat of screw:10.330827067669173 mm\n"
     ]
    }
   ],
   "source": [
    "# Outputs\n",
    "print(\"Pitch of the screw:\"+str(pixels_per_metric * mean_pitch)+\" mm\")\n",
    "print('Length of the screw:'+str((max2-min2)*pixels_per_metric)+' mm')\n",
    "print(\"Depth of screw threads:\"+str(mean_depth*pixels_per_metric)+\" mm\")\n",
    "print(\"Major Diameter of screw:\"+str(mean_major_dia*pixels_per_metric)+\" mm\")\n",
    "print(\"Minor Diameter of screw:\"+str(mean_minor_dia*pixels_per_metric)+\" mm\")\n",
    "print(\"Thread angle of the thread:\"+str(sum(included_angle_list)/len(included_angle_list))+u\"\\u00b0\")\n",
    "print(\"The collar diameter of the screw:\"+str(sum(collar_dia_list)/len(collar_dia_list)*pixels_per_metric)+\" mm\")\n",
    "print(\"Across corner of the screw:\"+str(m.sqrt((max_x-min_x)**2 + (max_y-min_y)**2) * ppm)+\" mm\")\n",
    "print(\"Across flat of screw:\"+str(mean_across_flat*ppm)+\" mm\")"
   ]
  },
  {
   "cell_type": "code",
   "execution_count": null,
   "metadata": {},
   "outputs": [],
   "source": []
  }
 ],
 "metadata": {
  "kernelspec": {
   "display_name": "Python 3",
   "language": "python",
   "name": "python3"
  },
  "language_info": {
   "codemirror_mode": {
    "name": "ipython",
    "version": 3
   },
   "file_extension": ".py",
   "mimetype": "text/x-python",
   "name": "python",
   "nbconvert_exporter": "python",
   "pygments_lexer": "ipython3",
   "version": "3.6.5"
  }
 },
 "nbformat": 4,
 "nbformat_minor": 2
}
