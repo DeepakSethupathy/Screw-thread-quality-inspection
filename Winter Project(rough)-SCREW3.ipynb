{
 "cells": [
  {
   "cell_type": "code",
   "execution_count": 9,
   "metadata": {},
   "outputs": [],
   "source": [
    "import cv2\n",
    "import numpy as np\n",
    "import math as m\n",
    "import matplotlib.pyplot as plt\n",
    "%matplotlib inline"
   ]
  },
  {
   "cell_type": "code",
   "execution_count": 10,
   "metadata": {},
   "outputs": [],
   "source": [
    "def nothing(x):\n",
    "    print(x)\n",
    "    \n",
    "#Close the pop up images before running next cell."
   ]
  },
  {
   "cell_type": "code",
   "execution_count": 11,
   "metadata": {},
   "outputs": [
    {
     "data": {
      "text/plain": [
       "-1"
      ]
     },
     "execution_count": 11,
     "metadata": {},
     "output_type": "execute_result"
    }
   ],
   "source": [
    "src_img = cv2.imread('screw11.jpg',1)\n",
    "cv2.imshow('read',src_img)\n",
    "cv2.waitKey(0)\n",
    "gauss = cv2.GaussianBlur(src_img,(5,5),6)\n",
    "gray = cv2.cvtColor(gauss,cv2.COLOR_BGR2GRAY)\n",
    "cv2.imshow('img',gray)\n",
    "cv2.waitKey(0)\n",
    "\n",
    "#Below code creates a track bar to set the parameters for canny edge detection. I have hard coded the value for users convinence \n",
    "\n",
    "# cv2.namedWindow('Edge Detect')\n",
    "# cv2.createTrackbar('Thresh1','Edge Detect',0,255,nothing)\n",
    "# cv2.createTrackbar('Thresh2','Edge Detect',0,255,nothing)\n",
    "# t1 = t2 = 0\n",
    "# while(1):\n",
    "#     canny = cv2.Canny(gray,t1,t2)\n",
    "#     cv2.imshow('Edge Detect',canny)\n",
    "#     k = cv2.waitKey(1) & 0xFF\n",
    "#     if k == 27:#Esc Key for terminating\n",
    "#         break\n",
    "#     t1 = cv2.getTrackbarPos('Thresh1','Edge Detect')\n",
    "#     t2 = cv2.getTrackbarPos('Thresh2','Edge Detect')\n",
    "t1=63\n",
    "t2=95\n",
    "canny = cv2.Canny(gray,t1,t2)\n",
    "cv2.imshow('Edge Detect',canny)\n",
    "cv2.waitKey(0) "
   ]
  },
  {
   "cell_type": "code",
   "execution_count": 12,
   "metadata": {},
   "outputs": [
    {
     "data": {
      "text/plain": [
       "(370, 1929)"
      ]
     },
     "execution_count": 12,
     "metadata": {},
     "output_type": "execute_result"
    }
   ],
   "source": [
    "cv2.imshow('canny',canny)\n",
    "cv2.waitKey(0)\n",
    "canny.shape"
   ]
  },
  {
   "cell_type": "code",
   "execution_count": 13,
   "metadata": {},
   "outputs": [
    {
     "name": "stdout",
     "output_type": "stream",
     "text": [
      "(370, 1929)\n"
     ]
    }
   ],
   "source": [
    "img2 = canny.copy()\n",
    "#img2 = cv2.cvtColor(img2,cv2.COLOR_BGR2GRAY)\n",
    "cv2.imshow('cropped',img2)\n",
    "cv2.waitKey(0)\n",
    "a1 = np.zeros((img2.shape[0],img2.shape[1]),np.uint8)\n",
    "for c in range(img2.shape[1]):\n",
    "    for r in range(img2.shape[0]):\n",
    "        if img2[r,c]==255:\n",
    "            a1[r,c]=255\n",
    "            break\n",
    "cv2.imshow('Upper Pixels', a1)\n",
    "cv2.waitKey(0)\n",
    "for c in range(img2.shape[1]-1,0,-1):\n",
    "    for r in range(img2.shape[0]-1,0,-1):\n",
    "        if img2[r,c]==255:\n",
    "            a1[r,c]=255\n",
    "            break\n",
    "cv2.imshow('Lower pixels', a1)\n",
    "cv2.waitKey(0)\n",
    "cv2.imwrite('canny extracted.jpg',a1)\n",
    "print(img2.shape)"
   ]
  },
  {
   "cell_type": "code",
   "execution_count": 14,
   "metadata": {},
   "outputs": [
    {
     "data": {
      "text/plain": [
       "True"
      ]
     },
     "execution_count": 14,
     "metadata": {},
     "output_type": "execute_result"
    }
   ],
   "source": [
    "img2 = img2[:,1000:1400]\n",
    "img3 = img2.copy()\n",
    "a = np.zeros((img3.shape[0],img3.shape[1]),np.uint8)\n",
    "for c in range(img3.shape[1]):\n",
    "    for r in range(img3.shape[0]):\n",
    "        if img3[r,c]==255:\n",
    "            a[r,c]=255\n",
    "            break\n",
    "cv2.imshow('Upper Pixels', a)\n",
    "cv2.waitKey(0)\n",
    "for c in range(img3.shape[1]-1,0,-1):\n",
    "    for r in range(img3.shape[0]-1,0,-1):\n",
    "        if img3[r,c]==255:\n",
    "            a[r,c]=255\n",
    "            break\n",
    "cv2.imshow('Lower pixels', a)\n",
    "cv2.waitKey(0)\n",
    "cv2.imwrite('pixel extraction.jpg',a)"
   ]
  },
  {
   "cell_type": "code",
   "execution_count": 15,
   "metadata": {},
   "outputs": [
    {
     "data": {
      "text/plain": [
       "True"
      ]
     },
     "execution_count": 15,
     "metadata": {},
     "output_type": "execute_result"
    }
   ],
   "source": [
    "cv2.imshow('img',a)\n",
    "cv2.waitKey(0)\n",
    "for i in range(1,a.shape[0]-1):\n",
    "    for j in range(1,a.shape[1]-1):\n",
    "        if a[i][j]==255 and a[i-1][j]==0 and a[i+1][j]==0 and a[i][j+1]==0 and a[i][j-1]==0 and a[i-1][j-1]==0 and a[i+1][j-1]==0 and a[i+1][j+1]==0 and a[i-1][j+1]==0:\n",
    "            a[i][j]=0\n",
    "\n",
    "for i in range(1,a.shape[0]-1):\n",
    "    for j in range(1,a.shape[1]-1):\n",
    "        if a[i][j]==0 and a[i-1][j]==255 and a[i+1][j]==255 and a[i][j+1]==255 and a[i][j-1]==255 and a[i-1][j-1]==255 and a[i+1][j-1]==255 and a[i+1][j+1]==255 and a[i-1][j+1]==255:\n",
    "            a[i][j]=255\n",
    "\n",
    "cv2.imwrite('noiseless.jpg',a)"
   ]
  },
  {
   "cell_type": "code",
   "execution_count": 16,
   "metadata": {},
   "outputs": [
    {
     "name": "stdout",
     "output_type": "stream",
     "text": [
      "107\n",
      "249\n",
      "178\n"
     ]
    }
   ],
   "source": [
    "img4 = a.copy()\n",
    "for r in range(img4.shape[0]):\n",
    "    if 255 in img4[r,:]:\n",
    "        min2 = r\n",
    "        break\n",
    "for r in range(img4.shape[0]-1,-1,-1):\n",
    "    if 255 in img4[r,:]:\n",
    "        max2 = r\n",
    "        break\n",
    "print(min2)\n",
    "print(max2)\n",
    "mid = int((min2+max2)/2)\n",
    "print(mid)"
   ]
  },
  {
   "cell_type": "code",
   "execution_count": 17,
   "metadata": {},
   "outputs": [
    {
     "data": {
      "text/plain": [
       "-1"
      ]
     },
     "execution_count": 17,
     "metadata": {},
     "output_type": "execute_result"
    }
   ],
   "source": [
    "img4[int(mid),:] = 255\n",
    "cv2.imshow('midline',img4)\n",
    "cv2.waitKey(0)"
   ]
  },
  {
   "cell_type": "code",
   "execution_count": 18,
   "metadata": {},
   "outputs": [
    {
     "name": "stdout",
     "output_type": "stream",
     "text": [
      "[(109, 0), (109, 1), (110, 2), (111, 3), (121, 7), (122, 8), (124, 9), (124, 10), (124, 11), (123, 12), (123, 13), (122, 14), (121, 15), (111, 19), (110, 20), (109, 21), (108, 22), (108, 23), (108, 24), (108, 25), (108, 26), (108, 27), (108, 28), (108, 29), (109, 30), (110, 31), (111, 32), (118, 35), (119, 36), (121, 37), (122, 38), (123, 39), (123, 40), (123, 41), (122, 42), (121, 43), (120, 44), (119, 45), (117, 46), (116, 47), (110, 49), (109, 50), (108, 51), (108, 52), (108, 53), (108, 54), (108, 55), (108, 56), (108, 57), (108, 58), (108, 59), (109, 60), (110, 61), (119, 65), (120, 66), (121, 67), (122, 68), (123, 69), (123, 70), (122, 71), (123, 72), (122, 73), (121, 74), (109, 79), (108, 80), (109, 81), (108, 82), (108, 83), (108, 84), (108, 85), (108, 86), (108, 87), (109, 88), (109, 89), (109, 90), (120, 95), (121, 96), (122, 97), (124, 98), (124, 99), (124, 100), (124, 101), (122, 102), (121, 103), (120, 104), (110, 108), (109, 109), (108, 110), (108, 111), (108, 112), (107, 113), (107, 114), (108, 115), (108, 116), (108, 117), (108, 118), (108, 119), (109, 120), (119, 124), (120, 125), (121, 126), (123, 127), (123, 128), (123, 129), (122, 130), (122, 131), (121, 132), (120, 133), (115, 135), (114, 136), (109, 138), (108, 139), (108, 140), (108, 141), (108, 142), (108, 143), (108, 144), (108, 145), (108, 146), (108, 147), (108, 148), (108, 149), (121, 155), (122, 156), (123, 157), (123, 158), (123, 159), (123, 160), (122, 161), (120, 162), (119, 163), (118, 164), (110, 166), (109, 167), (108, 168), (108, 169), (108, 170), (108, 171), (108, 172), (108, 173), (108, 174), (108, 175), (108, 176), (108, 177), (108, 178), (109, 179), (109, 180), (121, 185), (122, 186), (123, 187), (124, 188), (124, 189), (123, 190), (122, 191), (121, 192), (120, 193), (110, 196), (109, 197), (108, 198), (108, 199), (108, 200), (107, 201), (107, 202), (107, 203), (107, 204), (108, 205), (108, 206), (108, 207), (109, 208), (109, 209), (110, 210), (118, 213), (119, 214), (121, 215), (122, 216), (123, 217), (123, 218), (122, 219), (121, 220), (120, 221), (119, 222), (110, 225), (109, 226), (109, 227), (108, 228), (108, 229), (108, 230), (108, 231), (108, 232), (107, 233), (107, 234), (108, 235), (108, 236), (108, 237), (108, 238), (109, 239), (110, 240), (119, 244), (120, 245), (122, 246), (123, 247), (123, 248), (120, 250), (119, 251), (118, 252), (110, 255), (109, 256), (108, 257), (108, 258), (108, 259), (108, 260), (107, 261), (107, 262), (107, 263), (107, 264), (107, 265), (107, 266), (108, 267), (108, 268), (109, 269), (111, 270), (112, 271), (119, 274), (120, 275), (121, 276), (122, 277), (123, 278), (121, 279), (120, 280), (119, 281), (111, 284), (110, 285), (109, 286), (109, 287), (108, 288), (108, 289), (108, 290), (108, 291), (108, 292), (108, 293), (108, 294), (108, 295), (108, 296), (108, 297), (108, 298), (109, 299), (110, 300), (119, 304), (120, 305), (121, 306), (122, 307), (123, 308), (121, 309), (120, 310), (119, 311), (110, 314), (109, 315), (108, 316), (108, 317), (108, 318), (108, 319), (108, 320), (108, 321), (108, 322), (108, 323), (108, 324), (108, 325), (108, 326), (108, 327), (108, 328), (109, 329), (110, 330), (114, 332), (115, 333), (120, 335), (121, 336), (122, 337), (121, 338), (121, 339), (120, 340), (110, 344), (109, 345), (109, 346), (109, 347), (108, 348), (108, 349), (108, 350), (108, 351), (108, 352), (108, 353), (108, 354), (108, 355), (108, 356), (108, 357), (108, 358), (109, 359), (110, 360), (111, 361), (112, 362), (121, 366), (122, 367), (120, 368), (119, 369), (118, 370), (112, 372), (111, 373), (110, 374), (109, 375), (109, 376), (109, 377), (109, 378), (108, 379), (108, 380), (108, 381), (108, 382), (108, 383), (108, 384), (108, 385), (108, 386), (108, 387), (109, 388), (109, 389), (110, 390), (111, 391), (113, 392), (114, 393), (118, 394), (119, 395), (121, 396), (122, 397), (120, 398), (121, 399)]\n"
     ]
    }
   ],
   "source": [
    "upper = []\n",
    "for col in range(img4.shape[1]):\n",
    "    for row in range(mid):\n",
    "        if int(img4[row,col]) == 255:\n",
    "            tup = (row,col)\n",
    "            upper.append(tup)\n",
    "            tup = ()\n",
    "\n",
    "print(upper)  "
   ]
  },
  {
   "cell_type": "code",
   "execution_count": null,
   "metadata": {},
   "outputs": [],
   "source": []
  },
  {
   "cell_type": "code",
   "execution_count": 19,
   "metadata": {},
   "outputs": [
    {
     "name": "stdout",
     "output_type": "stream",
     "text": [
      "[(247, 399), (247, 398), (247, 397), (247, 396), (246, 395), (247, 394), (246, 393), (245, 392), (244, 391), (237, 388), (236, 387), (235, 386), (234, 385), (234, 384), (234, 383), (234, 382), (235, 381), (236, 380), (237, 379), (238, 378), (241, 377), (242, 376), (245, 375), (246, 374), (247, 373), (247, 372), (247, 371), (248, 370), (248, 369), (248, 368), (248, 367), (247, 366), (247, 365), (247, 364), (247, 363), (239, 359), (238, 358), (236, 357), (235, 356), (235, 355), (234, 354), (234, 353), (234, 352), (235, 351), (235, 350), (236, 349), (238, 348), (239, 347), (245, 345), (246, 344), (247, 343), (248, 342), (248, 341), (248, 340), (248, 339), (248, 338), (248, 337), (247, 336), (247, 335), (247, 334), (247, 333), (241, 330), (240, 329), (238, 328), (237, 327), (236, 326), (235, 325), (235, 324), (234, 323), (234, 322), (234, 321), (235, 320), (236, 319), (242, 317), (243, 316), (245, 315), (246, 314), (247, 313), (248, 312), (248, 311), (248, 310), (248, 309), (248, 308), (248, 307), (248, 306), (248, 305), (248, 304), (247, 303), (246, 302), (245, 301), (236, 297), (235, 296), (234, 295), (234, 294), (234, 293), (234, 292), (235, 291), (236, 290), (237, 289), (238, 288), (241, 287), (242, 286), (247, 284), (248, 283), (248, 282), (248, 281), (248, 280), (248, 279), (248, 278), (248, 277), (248, 276), (247, 275), (247, 274), (246, 273), (246, 272), (237, 268), (236, 267), (235, 266), (234, 265), (234, 264), (233, 263), (234, 262), (234, 261), (235, 260), (236, 259), (243, 256), (244, 255), (246, 254), (247, 253), (246, 252), (247, 251), (247, 250), (247, 249), (247, 248), (247, 247), (247, 246), (247, 245), (247, 244), (246, 243), (245, 242), (235, 237), (234, 236), (233, 235), (233, 234), (233, 233), (233, 232), (234, 231), (235, 230), (236, 229), (240, 227), (241, 226), (246, 224), (247, 223), (247, 222), (247, 221), (247, 220), (247, 219), (248, 218), (247, 217), (247, 216), (247, 215), (247, 214), (246, 213), (238, 209), (237, 208), (235, 207), (234, 206), (233, 205), (232, 204), (233, 203), (233, 202), (234, 201), (235, 200), (236, 199), (237, 198), (245, 196), (246, 195), (246, 194), (247, 193), (247, 192), (247, 191), (247, 190), (247, 189), (247, 188), (247, 187), (247, 186), (247, 185), (246, 184), (246, 183), (245, 182), (236, 178), (235, 177), (234, 176), (233, 175), (233, 174), (233, 173), (233, 172), (234, 171), (235, 170), (237, 169), (238, 168), (245, 166), (246, 165), (246, 164), (246, 163), (246, 162), (246, 161), (248, 160), (248, 159), (247, 158), (247, 157), (246, 156), (246, 155), (246, 154), (245, 153), (244, 152), (234, 147), (233, 146), (233, 145), (233, 144), (233, 143), (234, 142), (234, 141), (236, 140), (237, 139), (244, 137), (245, 136), (247, 135), (247, 134), (247, 133), (248, 132), (248, 131), (247, 130), (248, 129), (247, 128), (247, 127), (247, 126), (247, 125), (246, 124), (245, 123), (244, 122), (237, 119), (236, 118), (235, 117), (233, 116), (233, 115), (233, 114), (234, 113), (235, 112), (236, 111), (237, 110), (246, 106), (247, 105), (247, 104), (247, 103), (247, 102), (248, 101), (248, 100), (248, 99), (248, 98), (247, 97), (247, 96), (247, 95), (246, 94), (241, 92), (240, 91), (236, 89), (235, 88), (234, 87), (233, 86), (233, 85), (233, 84), (234, 83), (235, 82), (236, 81), (246, 77), (246, 76), (247, 75), (247, 74), (248, 73), (248, 72), (248, 71), (248, 70), (248, 69), (248, 68), (248, 67), (248, 66), (247, 65), (246, 64), (236, 59), (235, 58), (234, 57), (233, 56), (233, 55), (233, 54), (234, 53), (235, 52), (245, 48), (246, 47), (247, 46), (247, 45), (248, 44), (248, 43), (248, 42), (248, 41), (248, 40), (248, 39), (248, 38), (247, 37), (247, 36), (247, 35), (246, 34), (234, 28), (233, 27), (232, 26), (233, 25), (234, 24), (235, 23), (236, 22), (246, 18), (247, 17), (248, 16), (249, 15), (248, 14), (248, 13), (248, 12), (248, 11), (249, 10), (248, 9), (248, 8), (248, 7), (247, 6), (246, 5), (245, 4), (244, 3)]\n"
     ]
    }
   ],
   "source": [
    "lower = []\n",
    "for col in range(img4.shape[1]-1,-1,-1):\n",
    "    for row in range(mid+1,img4.shape[0]):\n",
    "        if int(img4[row,col]) == 255:\n",
    "            tup = (row,col)\n",
    "            lower.append(tup)\n",
    "            tup = ()\n",
    "\n",
    "print(lower)  "
   ]
  },
  {
   "cell_type": "code",
   "execution_count": 20,
   "metadata": {},
   "outputs": [
    {
     "name": "stdout",
     "output_type": "stream",
     "text": [
      "[(0, 109, 1), (0, 110, 2), (0, 111, 3), (0, 121, 7), (0, 122, 8), (1, 124, 11), (1, 123, 13), (1, 122, 14), (1, 121, 15), (1, 111, 19), (1, 110, 20), (1, 109, 21), (0, 108, 29), (0, 109, 30), (0, 110, 31), (0, 111, 32), (0, 118, 35), (0, 119, 36), (0, 121, 37), (0, 122, 38), (1, 123, 41), (1, 122, 42), (1, 121, 43), (1, 120, 44), (1, 119, 45), (1, 117, 46), (1, 116, 47), (1, 110, 49), (1, 109, 50), (0, 108, 59), (0, 109, 60), (0, 110, 61), (0, 119, 65), (0, 120, 66), (0, 121, 67), (0, 122, 68), (1, 123, 70), (0, 122, 71), (1, 123, 72), (1, 122, 73), (1, 121, 74), (1, 109, 79), (0, 108, 80), (1, 109, 81), (0, 108, 87), (0, 109, 90), (0, 120, 95), (0, 121, 96), (0, 122, 97), (1, 124, 101), (1, 122, 102), (1, 121, 103), (1, 120, 104), (1, 110, 108), (1, 109, 109), (1, 108, 112), (0, 107, 114), (0, 108, 119), (0, 109, 120), (0, 119, 124), (0, 120, 125), (0, 121, 126), (1, 123, 129), (1, 122, 131), (1, 121, 132), (1, 120, 133), (1, 115, 135), (1, 114, 136), (1, 109, 138), (0, 108, 149), (0, 121, 155), (0, 122, 156), (1, 123, 160), (1, 122, 161), (1, 120, 162), (1, 119, 163), (1, 118, 164), (1, 110, 166), (1, 109, 167), (0, 108, 178), (0, 109, 180), (0, 121, 185), (0, 122, 186), (0, 123, 187), (1, 124, 189), (1, 123, 190), (1, 122, 191), (1, 121, 192), (1, 120, 193), (1, 110, 196), (1, 109, 197), (1, 108, 200), (0, 107, 204), (0, 108, 207), (0, 109, 209), (0, 110, 210), (0, 118, 213), (0, 119, 214), (0, 121, 215), (0, 122, 216), (1, 123, 218), (1, 122, 219), (1, 121, 220), (1, 120, 221), (1, 119, 222), (1, 110, 225), (1, 109, 227), (1, 108, 232), (0, 107, 234), (0, 108, 238), (0, 109, 239), (0, 110, 240), (0, 119, 244), (0, 120, 245), (0, 122, 246), (1, 123, 248), (1, 120, 250), (1, 119, 251), (1, 118, 252), (1, 110, 255), (1, 109, 256), (1, 108, 260), (0, 107, 266), (0, 108, 268), (0, 109, 269), (0, 111, 270), (0, 112, 271), (0, 119, 274), (0, 120, 275), (0, 121, 276), (0, 122, 277), (1, 123, 278), (1, 121, 279), (1, 120, 280), (1, 119, 281), (1, 111, 284), (1, 110, 285), (1, 109, 287), (0, 108, 298), (0, 109, 299), (0, 110, 300), (0, 119, 304), (0, 120, 305), (0, 121, 306), (0, 122, 307), (1, 123, 308), (1, 121, 309), (1, 120, 310), (1, 119, 311), (1, 110, 314), (1, 109, 315), (0, 108, 328), (0, 109, 329), (0, 110, 330), (0, 114, 332), (0, 115, 333), (0, 120, 335), (0, 121, 336), (1, 122, 337), (1, 121, 339), (1, 120, 340), (1, 110, 344), (1, 109, 347), (0, 108, 358), (0, 109, 359), (0, 110, 360), (0, 111, 361), (0, 112, 362), (0, 121, 366), (1, 122, 367), (1, 120, 368), (1, 119, 369), (1, 118, 370), (1, 112, 372), (1, 111, 373), (1, 110, 374), (1, 109, 378), (0, 108, 387), (0, 109, 389), (0, 110, 390), (0, 111, 391), (0, 113, 392), (0, 114, 393), (0, 118, 394), (0, 119, 395), (0, 121, 396), (1, 122, 397), (0, 120, 398)]\n"
     ]
    }
   ],
   "source": [
    "direction_upper = []\n",
    "for x in range(len(upper)-1):\n",
    "    if upper[x][0] > upper[x+1][0]:\n",
    "        tup = (1,upper[x][0],upper[x][1])\n",
    "        direction_upper.append(tup)\n",
    "        tup = ()\n",
    "    elif upper[x][0] < upper[x+1][0]:\n",
    "        tup = (0,upper[x][0],upper[x][1])\n",
    "        direction_upper.append(tup)\n",
    "        tup = ()\n",
    "    else:\n",
    "        continue\n",
    "\n",
    "print(direction_upper)"
   ]
  },
  {
   "cell_type": "code",
   "execution_count": 21,
   "metadata": {},
   "outputs": [],
   "source": [
    "crest_upper = []\n",
    "root_upper = []\n",
    "for x in range(len(direction_upper)-4):\n",
    "    if direction_upper[x][0] == 1 and direction_upper[x+1][0] == 0 and direction_upper[x+2][0] == 0 and direction_upper[x+3][0] == 0 and direction_upper[x+4][0] == 0:\n",
    "        tup = (direction_upper[x][1],direction_upper[x][2])\n",
    "        crest_upper.append(tup)\n",
    "        tup = ()\n",
    "    elif direction_upper[x][0] == 0 and direction_upper[x+1][0] == 1 and direction_upper[x+2][0] == 1:\n",
    "        tup = (direction_upper[x][1],direction_upper[x][2])\n",
    "        root_upper.append(tup)\n",
    "        tup = ()"
   ]
  },
  {
   "cell_type": "code",
   "execution_count": 22,
   "metadata": {},
   "outputs": [
    {
     "name": "stdout",
     "output_type": "stream",
     "text": [
      "[(109, 21), (109, 50), (109, 81), (108, 112), (109, 167), (108, 200), (108, 232), (108, 260), (109, 287), (109, 315), (109, 347), (109, 378)]\n",
      "[(122, 8), (122, 38), (122, 71), (122, 97), (121, 126), (122, 156), (123, 187), (122, 216), (122, 246), (122, 277), (122, 307), (121, 336), (121, 366)]\n"
     ]
    }
   ],
   "source": [
    "print(crest_upper)\n",
    "print(root_upper)"
   ]
  },
  {
   "cell_type": "code",
   "execution_count": 23,
   "metadata": {},
   "outputs": [
    {
     "data": {
      "text/plain": [
       "-1"
      ]
     },
     "execution_count": 23,
     "metadata": {},
     "output_type": "execute_result"
    }
   ],
   "source": [
    "img5 = img4.copy()\n",
    "for coord in crest_upper:\n",
    "    cv2.circle(img5,(coord[1],coord[0]),5,155,1)\n",
    "cv2.imshow('crestpoints',img5)\n",
    "cv2.waitKey(0)"
   ]
  },
  {
   "cell_type": "code",
   "execution_count": 24,
   "metadata": {},
   "outputs": [
    {
     "data": {
      "text/plain": [
       "-1"
      ]
     },
     "execution_count": 24,
     "metadata": {},
     "output_type": "execute_result"
    }
   ],
   "source": [
    "img6 = img4.copy()\n",
    "for coord in root_upper:\n",
    "    cv2.circle(img6,(coord[1],coord[0]),5,155,1)\n",
    "cv2.imshow('rootpoints',img6)\n",
    "cv2.waitKey(0)"
   ]
  },
  {
   "cell_type": "code",
   "execution_count": 25,
   "metadata": {},
   "outputs": [],
   "source": [
    "(Y1,X1) = crest_upper[0]\n",
    "(Y2,X2) = crest_upper[-1]"
   ]
  },
  {
   "cell_type": "code",
   "execution_count": 26,
   "metadata": {},
   "outputs": [],
   "source": [
    "upper_crest_group = []\n",
    "upper_root_group = []\n",
    "for coord in upper:\n",
    "    (Y3,X3) = coord\n",
    "    pd = (((X2-X1)*(Y1-Y3)) - ((X1-X3)*(Y2-Y1)))/m.sqrt((X2-X1)**2 + (Y2-Y1)**2)\n",
    "    if pd<1 and pd>-1:\n",
    "        tup = (Y3,X3)\n",
    "        upper_crest_group.append(tup)\n",
    "        tup = ()\n",
    "\n",
    "(Y1,X1) = root_upper[0]\n",
    "(Y2,X2) = root_upper[-1]\n",
    "for coord in upper:\n",
    "    (Y3,X3) = coord\n",
    "    pd = (((X2-X1)*(Y1-Y3)) - ((X1-X3)*(Y2-Y1)))/m.sqrt((X2-X1)**2 + (Y2-Y1)**2)\n",
    "    if pd<1 and pd>-1:\n",
    "        tup = (Y3,X3)\n",
    "        upper_root_group.append(tup)\n",
    "        tup = ()"
   ]
  },
  {
   "cell_type": "code",
   "execution_count": 27,
   "metadata": {},
   "outputs": [
    {
     "data": {
      "text/plain": [
       "-1"
      ]
     },
     "execution_count": 27,
     "metadata": {},
     "output_type": "execute_result"
    }
   ],
   "source": [
    "img7 = img4.copy()\n",
    "for coord in upper_crest_group:\n",
    "    cv2.circle(img7,(coord[1],coord[0]),5,155,1)\n",
    "cv2.imshow('crestpoints',img7)\n",
    "cv2.waitKey(0)\n",
    "\n",
    "img8 = img4.copy()\n",
    "for coord in upper_root_group:\n",
    "    cv2.circle(img8,(coord[1],coord[0]),5,155,1)\n",
    "cv2.imshow('rootpoints',img8)\n",
    "cv2.waitKey(0)"
   ]
  },
  {
   "cell_type": "code",
   "execution_count": 28,
   "metadata": {
    "scrolled": true
   },
   "outputs": [
    {
     "name": "stdout",
     "output_type": "stream",
     "text": [
      "40\n",
      "47\n"
     ]
    }
   ],
   "source": [
    "print(len(upper_crest_group))\n",
    "print(len(upper_root_group))"
   ]
  },
  {
   "cell_type": "code",
   "execution_count": 29,
   "metadata": {},
   "outputs": [],
   "source": [
    "group = 1\n",
    "upper_crest_clustered = []\n",
    "upper_crest_clustered.append((upper_crest_group[0][0],upper_crest_group[0][1],group))\n",
    "for i in range(len(upper_crest_group)-1):\n",
    "    (Y1,X1) = upper_crest_group[i]\n",
    "    (Y2,X2) = upper_crest_group[i+1]\n",
    "    pd = m.sqrt((X2-X1)**2 + (Y2-Y1)**2)\n",
    "    if pd<15:\n",
    "        upper_crest_clustered.append((Y2,X2,group))\n",
    "    else:\n",
    "        group = group+1\n",
    "        upper_crest_clustered.append((Y2,X2,group))"
   ]
  },
  {
   "cell_type": "code",
   "execution_count": 30,
   "metadata": {},
   "outputs": [
    {
     "data": {
      "text/plain": [
       "[1, 2, 3, 4, 5, 6, 7, 8, 9, 10, 11, 12, 13, 14]"
      ]
     },
     "execution_count": 30,
     "metadata": {},
     "output_type": "execute_result"
    }
   ],
   "source": [
    "list2 = []\n",
    "for i in range(len(upper_crest_clustered)):\n",
    "    list2.append(upper_crest_clustered[i][2])\n",
    "list2 = list(set(list2))\n",
    "list2"
   ]
  },
  {
   "cell_type": "code",
   "execution_count": 31,
   "metadata": {},
   "outputs": [
    {
     "name": "stdout",
     "output_type": "stream",
     "text": [
      "[(109, 0), (108, 25), (108, 55), (108, 84), (107, 114), (109, 138), (108, 173), (107, 203), (108, 232), (107, 262), (108, 292), (108, 322), (108, 352), (108, 382)]\n"
     ]
    }
   ],
   "source": [
    "list3 = []\n",
    "final_upper_crests = []\n",
    "for i in list2:\n",
    "    for coord in upper_crest_clustered:\n",
    "        if coord[2] == i:\n",
    "            list3.append(coord)\n",
    "    cd1 = list3[0]\n",
    "    cd2 = list3[-1]\n",
    "    mpo = int((cd1[1]+cd2[1])/2)\n",
    "    for x in range(img4.shape[0]):\n",
    "        if img4[x,mpo]==255:\n",
    "            final_upper_crests.append((x,mpo))\n",
    "            list3 = []\n",
    "            break\n",
    "print(final_upper_crests)    "
   ]
  },
  {
   "cell_type": "code",
   "execution_count": 32,
   "metadata": {},
   "outputs": [
    {
     "data": {
      "text/plain": [
       "-1"
      ]
     },
     "execution_count": 32,
     "metadata": {},
     "output_type": "execute_result"
    }
   ],
   "source": [
    "img9 = img4.copy()\n",
    "for coord in final_upper_crests:\n",
    "    cv2.circle(img9,(coord[1],coord[0]),4,200,1)\n",
    "cv2.imshow('new_crests',img9)\n",
    "cv2.waitKey(0)"
   ]
  },
  {
   "cell_type": "code",
   "execution_count": 33,
   "metadata": {},
   "outputs": [],
   "source": [
    "group1 = 1\n",
    "upper_root_clustered = []\n",
    "upper_root_clustered.append((upper_root_group[0][0],upper_root_group[0][1],group1))\n",
    "for i in range(len(upper_root_group)-1):\n",
    "    (Y1,X1) = upper_root_group[i]\n",
    "    (Y2,X2) = upper_root_group[i+1]\n",
    "    pd = m.sqrt((X2-X1)**2 + (Y2-Y1)**2)\n",
    "    if pd<10:\n",
    "        upper_root_clustered.append((Y2,X2,group1))\n",
    "    else:\n",
    "        group1 = group1+1\n",
    "        upper_root_clustered.append((Y2,X2,group1))"
   ]
  },
  {
   "cell_type": "code",
   "execution_count": 34,
   "metadata": {},
   "outputs": [
    {
     "data": {
      "text/plain": [
       "[1, 2, 3, 4, 5, 6, 7, 8, 9, 10, 11, 12, 13, 14]"
      ]
     },
     "execution_count": 34,
     "metadata": {},
     "output_type": "execute_result"
    }
   ],
   "source": [
    "list6 = []\n",
    "for i in range(len(upper_root_clustered)):\n",
    "    list6.append(upper_root_clustered[i][2])\n",
    "list6 = list(set(list6))\n",
    "list6"
   ]
  },
  {
   "cell_type": "code",
   "execution_count": 35,
   "metadata": {},
   "outputs": [
    {
     "name": "stdout",
     "output_type": "stream",
     "text": [
      "[(124, 11), (123, 40), (123, 70), (124, 99), (123, 129), (123, 158), (124, 188), (123, 217), (122, 246), (122, 277), (122, 307), (122, 337), (122, 367), (122, 397)]\n"
     ]
    }
   ],
   "source": [
    "list7 = []\n",
    "final_upper_roots = []\n",
    "for i in list6:\n",
    "    for coord in upper_root_clustered:\n",
    "        if coord[2] == i:\n",
    "            list7.append(coord)\n",
    "    cd1 = list7[0]\n",
    "    cd2 = list7[-1]\n",
    "    mpo = int((cd1[1]+cd2[1])/2)\n",
    "    for x in range(mid-1,0,-1):\n",
    "        if img4[x,mpo]==255:\n",
    "            final_upper_roots.append((x,mpo))\n",
    "            list7 = []\n",
    "            break\n",
    "print(final_upper_roots)    "
   ]
  },
  {
   "cell_type": "code",
   "execution_count": 36,
   "metadata": {},
   "outputs": [
    {
     "data": {
      "text/plain": [
       "-1"
      ]
     },
     "execution_count": 36,
     "metadata": {},
     "output_type": "execute_result"
    }
   ],
   "source": [
    "img10 = img4.copy()\n",
    "for coord in final_upper_crests:\n",
    "    cv2.circle(img10,(coord[1],coord[0]),4,200,1)\n",
    "\n",
    "for coord in final_upper_roots:\n",
    "    cv2.circle(img10,(coord[1],coord[0]),4,200,1)\n",
    "\n",
    "cv2.imshow('final_image',img10)\n",
    "cv2.waitKey(0)"
   ]
  },
  {
   "cell_type": "code",
   "execution_count": 37,
   "metadata": {},
   "outputs": [
    {
     "data": {
      "text/plain": [
       "-1"
      ]
     },
     "execution_count": 37,
     "metadata": {},
     "output_type": "execute_result"
    }
   ],
   "source": [
    "img11 = img10.copy()\n",
    "cv2.line(img11,(final_upper_crests[0][1],final_upper_crests[0][0]),(final_upper_crests[-1][1],final_upper_crests[-1][0]),200,1)\n",
    "cv2.line(img11,(final_upper_roots[0][1],final_upper_roots[0][0]),(final_upper_roots[-1][1],final_upper_roots[-1][0]),200,1)\n",
    "cv2.imshow('lines',img11)\n",
    "cv2.waitKey(0)"
   ]
  },
  {
   "cell_type": "code",
   "execution_count": 38,
   "metadata": {},
   "outputs": [
    {
     "name": "stdout",
     "output_type": "stream",
     "text": [
      "[(1, 247, 396), (0, 246, 395), (1, 247, 394), (1, 246, 393), (1, 245, 392), (1, 244, 391), (1, 237, 388), (1, 236, 387), (1, 235, 386), (0, 234, 382), (0, 235, 381), (0, 236, 380), (0, 237, 379), (0, 238, 378), (0, 241, 377), (0, 242, 376), (0, 245, 375), (0, 246, 374), (0, 247, 371), (1, 248, 367), (1, 247, 363), (1, 239, 359), (1, 238, 358), (1, 236, 357), (1, 235, 355), (0, 234, 352), (0, 235, 350), (0, 236, 349), (0, 238, 348), (0, 239, 347), (0, 245, 345), (0, 246, 344), (0, 247, 343), (1, 248, 337), (1, 247, 333), (1, 241, 330), (1, 240, 329), (1, 238, 328), (1, 237, 327), (1, 236, 326), (1, 235, 324), (0, 234, 321), (0, 235, 320), (0, 236, 319), (0, 242, 317), (0, 243, 316), (0, 245, 315), (0, 246, 314), (0, 247, 313), (1, 248, 304), (1, 247, 303), (1, 246, 302), (1, 245, 301), (1, 236, 297), (1, 235, 296), (0, 234, 292), (0, 235, 291), (0, 236, 290), (0, 237, 289), (0, 238, 288), (0, 241, 287), (0, 242, 286), (0, 247, 284), (1, 248, 276), (1, 247, 274), (1, 246, 272), (1, 237, 268), (1, 236, 267), (1, 235, 266), (1, 234, 264), (0, 233, 263), (0, 234, 261), (0, 235, 260), (0, 236, 259), (0, 243, 256), (0, 244, 255), (0, 246, 254), (1, 247, 253), (0, 246, 252), (1, 247, 244), (1, 246, 243), (1, 245, 242), (1, 235, 237), (1, 234, 236), (0, 233, 232), (0, 234, 231), (0, 235, 230), (0, 236, 229), (0, 240, 227), (0, 241, 226), (0, 246, 224), (0, 247, 219), (1, 248, 218), (1, 247, 214), (1, 246, 213), (1, 238, 209), (1, 237, 208), (1, 235, 207), (1, 234, 206), (1, 233, 205), (0, 232, 204), (0, 233, 202), (0, 234, 201), (0, 235, 200), (0, 236, 199), (0, 237, 198), (0, 245, 196), (0, 246, 194), (1, 247, 185), (1, 246, 183), (1, 245, 182), (1, 236, 178), (1, 235, 177), (1, 234, 176), (0, 233, 172), (0, 234, 171), (0, 235, 170), (0, 237, 169), (0, 238, 168), (0, 245, 166), (0, 246, 161), (1, 248, 159), (1, 247, 157), (1, 246, 154), (1, 245, 153), (1, 244, 152), (1, 234, 147), (0, 233, 143), (0, 234, 141), (0, 236, 140), (0, 237, 139), (0, 244, 137), (0, 245, 136), (0, 247, 133), (1, 248, 131), (0, 247, 130), (1, 248, 129), (1, 247, 125), (1, 246, 124), (1, 245, 123), (1, 244, 122), (1, 237, 119), (1, 236, 118), (1, 235, 117), (0, 233, 114), (0, 234, 113), (0, 235, 112), (0, 236, 111), (0, 237, 110), (0, 246, 106), (0, 247, 102), (1, 248, 98), (1, 247, 95), (1, 246, 94), (1, 241, 92), (1, 240, 91), (1, 236, 89), (1, 235, 88), (1, 234, 87), (0, 233, 84), (0, 234, 83), (0, 235, 82), (0, 236, 81), (0, 246, 76), (0, 247, 74), (1, 248, 66), (1, 247, 65), (1, 246, 64), (1, 236, 59), (1, 235, 58), (1, 234, 57), (0, 233, 54), (0, 234, 53), (0, 235, 52), (0, 245, 48), (0, 246, 47), (0, 247, 45), (1, 248, 38), (1, 247, 35), (1, 246, 34), (1, 234, 28), (1, 233, 27), (0, 232, 26), (0, 233, 25), (0, 234, 24), (0, 235, 23), (0, 236, 22), (0, 246, 18), (0, 247, 17), (0, 248, 16), (1, 249, 15), (0, 248, 11), (1, 249, 10), (1, 248, 7), (1, 247, 6), (1, 246, 5), (1, 245, 4)]\n"
     ]
    }
   ],
   "source": [
    "direction_lower = []\n",
    "for x in range(len(lower)-1):\n",
    "    if lower[x][0] > lower[x+1][0]:\n",
    "        tup = (1,lower[x][0],lower[x][1])\n",
    "        direction_lower.append(tup)\n",
    "        tup = ()\n",
    "    elif lower[x][0] < lower[x+1][0]:\n",
    "        tup = (0,lower[x][0],lower[x][1])\n",
    "        direction_lower.append(tup)\n",
    "        tup = ()\n",
    "    else:\n",
    "        continue\n",
    "\n",
    "print(direction_lower)"
   ]
  },
  {
   "cell_type": "code",
   "execution_count": 39,
   "metadata": {},
   "outputs": [],
   "source": [
    "root_lower = []\n",
    "crest_lower = []\n",
    "for x in range(len(direction_lower)-4):\n",
    "    if direction_lower[x][0] == 1 and direction_lower[x+1][0] == 0 and direction_lower[x+2][0] == 0 and direction_lower[x+3][0] == 0 and direction_lower[x+4][0] == 0:\n",
    "        tup = (direction_lower[x][1],direction_lower[x][2])\n",
    "        root_lower.append(tup)\n",
    "        tup = ()\n",
    "    elif direction_lower[x][0] == 0 and direction_lower[x+1][0] == 1 and direction_lower[x+2][0] == 1:\n",
    "        tup = (direction_lower[x][1],direction_lower[x][2])\n",
    "        crest_lower.append(tup)\n",
    "        tup = ()\n"
   ]
  },
  {
   "cell_type": "code",
   "execution_count": 40,
   "metadata": {},
   "outputs": [
    {
     "name": "stdout",
     "output_type": "stream",
     "text": [
      "[(235, 386), (235, 355), (235, 324), (235, 296), (234, 264), (234, 236), (233, 205), (234, 176), (234, 147), (235, 117), (234, 87), (234, 57), (233, 27)]\n",
      "[(246, 395), (247, 371), (247, 343), (247, 313), (247, 284), (246, 252), (247, 219), (246, 194), (246, 161), (247, 130), (247, 102), (247, 74), (247, 45), (248, 11)]\n"
     ]
    }
   ],
   "source": [
    "print(root_lower)\n",
    "print(crest_lower)"
   ]
  },
  {
   "cell_type": "code",
   "execution_count": 41,
   "metadata": {},
   "outputs": [],
   "source": [
    "(Y1,X1) = root_lower[0]\n",
    "(Y2,X2) = root_lower[-1]\n",
    "lower_root_group = []\n",
    "for coord in lower:\n",
    "    (Y3,X3) = coord\n",
    "    pd = (((X2-X1)*(Y1-Y3)) - ((X1-X3)*(Y2-Y1)))/m.sqrt((X2-X1)**2 + (Y2-Y1)**2)\n",
    "    if pd<1 and pd>-1:\n",
    "        tup = (Y3,X3)\n",
    "        lower_root_group.append(tup)\n",
    "        tup = ()\n",
    "\n",
    "(Y1,X1) = crest_lower[0]\n",
    "(Y2,X2) = crest_lower[-1]\n",
    "lower_crest_group = []\n",
    "for coord in lower:\n",
    "    (Y3,X3) = coord\n",
    "    pd = (((X2-X1)*(Y1-Y3)) - ((X1-X3)*(Y2-Y1)))/m.sqrt((X2-X1)**2 + (Y2-Y1)**2)\n",
    "    if pd<1 and pd>-1:\n",
    "        tup = (Y3,X3)\n",
    "        lower_crest_group.append(tup)\n",
    "        tup = ()"
   ]
  },
  {
   "cell_type": "code",
   "execution_count": 42,
   "metadata": {},
   "outputs": [],
   "source": [
    "group2 = 1\n",
    "lower_root_clustered = []\n",
    "lower_root_clustered.append((lower_root_group[0][0],lower_root_group[0][1],group2))\n",
    "for i in range(len(lower_root_group)-1):\n",
    "    (Y1,X1) = lower_root_group[i]\n",
    "    (Y2,X2) = lower_root_group[i+1]\n",
    "    pd = m.sqrt((X2-X1)**2 + (Y2-Y1)**2)\n",
    "    if pd<7:\n",
    "        lower_root_clustered.append((Y2,X2,group2))\n",
    "    else:\n",
    "        group2 = group2+1\n",
    "        lower_root_clustered.append((Y2,X2,group2))"
   ]
  },
  {
   "cell_type": "code",
   "execution_count": 43,
   "metadata": {},
   "outputs": [
    {
     "data": {
      "text/plain": [
       "[1, 2, 3, 4, 5, 6, 7, 8, 9, 10, 11, 12, 13]"
      ]
     },
     "execution_count": 43,
     "metadata": {},
     "output_type": "execute_result"
    }
   ],
   "source": [
    "list10 = []\n",
    "for i in range(len(lower_root_clustered)):\n",
    "    list10.append(lower_root_clustered[i][2])\n",
    "list10 = list(set(list10))\n",
    "list10"
   ]
  },
  {
   "cell_type": "code",
   "execution_count": 44,
   "metadata": {},
   "outputs": [
    {
     "name": "stdout",
     "output_type": "stream",
     "text": [
      "[(234, 384), (234, 353), (234, 322), (234, 293), (233, 263), (233, 233), (232, 204), (233, 173), (233, 144), (233, 114), (233, 85), (233, 55), (232, 26)]\n"
     ]
    }
   ],
   "source": [
    "list11 = []\n",
    "final_lower_roots = []\n",
    "for i in list10:\n",
    "    for coord in lower_root_clustered:\n",
    "        if coord[2] == i:\n",
    "            list11.append(coord)\n",
    "    cd1 = list11[0]\n",
    "    cd2 = list11[-1]\n",
    "    mpo = int((cd1[1]+cd2[1])/2)\n",
    "    for x in range(mid+1,img4.shape[0]):\n",
    "        if img4[x,mpo]==255:\n",
    "            final_lower_roots.append((x,mpo))\n",
    "            list11 = []\n",
    "            break\n",
    "print(final_lower_roots)   "
   ]
  },
  {
   "cell_type": "code",
   "execution_count": 45,
   "metadata": {},
   "outputs": [
    {
     "data": {
      "text/plain": [
       "-1"
      ]
     },
     "execution_count": 45,
     "metadata": {},
     "output_type": "execute_result"
    }
   ],
   "source": [
    "img12 = img10.copy()\n",
    "for coord in final_lower_roots:\n",
    "    cv2.circle(img12,(coord[1],coord[0]),4,200,1)\n",
    "cv2.imshow('final_lower_roots',img12)\n",
    "cv2.waitKey(0)"
   ]
  },
  {
   "cell_type": "code",
   "execution_count": 46,
   "metadata": {},
   "outputs": [],
   "source": [
    "group3 = 1\n",
    "lower_crest_clustered = []\n",
    "lower_crest_clustered.append((lower_crest_group[0][0],lower_crest_group[0][1],group3))\n",
    "for i in range(len(lower_crest_group)-1):\n",
    "    (Y1,X1) = lower_crest_group[i]\n",
    "    (Y2,X2) = lower_crest_group[i+1]\n",
    "    pd = m.sqrt((X2-X1)**2 + (Y2-Y1)**2)\n",
    "    if pd<11:\n",
    "        lower_crest_clustered.append((Y2,X2,group3))\n",
    "    else:\n",
    "        group3 = group3+1\n",
    "        lower_crest_clustered.append((Y2,X2,group3))"
   ]
  },
  {
   "cell_type": "code",
   "execution_count": 47,
   "metadata": {},
   "outputs": [
    {
     "data": {
      "text/plain": [
       "[1, 2, 3, 4, 5, 6, 7, 8, 9, 10, 11, 12, 13, 14]"
      ]
     },
     "execution_count": 47,
     "metadata": {},
     "output_type": "execute_result"
    }
   ],
   "source": [
    "list14 = []\n",
    "for i in range(len(lower_crest_clustered)):\n",
    "    list14.append(lower_crest_clustered[i][2])\n",
    "list14 = list(set(list14))\n",
    "list14"
   ]
  },
  {
   "cell_type": "code",
   "execution_count": 48,
   "metadata": {},
   "outputs": [
    {
     "name": "stdout",
     "output_type": "stream",
     "text": [
      "[(247, 394), (248, 368), (248, 338), (248, 308), (248, 278), (247, 248), (248, 218), (247, 189), (247, 158), (247, 130), (248, 100), (248, 70), (248, 40), (248, 12)]\n"
     ]
    }
   ],
   "source": [
    "list15 = []\n",
    "final_lower_crests = []\n",
    "for i in list14:\n",
    "    for coord in lower_crest_clustered:\n",
    "        if coord[2] == i:\n",
    "            list15.append(coord)\n",
    "    cd1 = list15[0]\n",
    "    cd2 = list15[-1]\n",
    "    mpo = int((cd1[1]+cd2[1])/2)\n",
    "    for x in range(img4.shape[0]-1,-1,-1):\n",
    "        if img4[x,mpo]==255:\n",
    "            final_lower_crests.append((x,mpo))\n",
    "            list15 = []\n",
    "            break\n",
    "print(final_lower_crests)   "
   ]
  },
  {
   "cell_type": "code",
   "execution_count": 49,
   "metadata": {},
   "outputs": [
    {
     "data": {
      "text/plain": [
       "(370, 400)"
      ]
     },
     "execution_count": 49,
     "metadata": {},
     "output_type": "execute_result"
    }
   ],
   "source": [
    "img4.shape"
   ]
  },
  {
   "cell_type": "code",
   "execution_count": 50,
   "metadata": {},
   "outputs": [
    {
     "data": {
      "text/plain": [
       "True"
      ]
     },
     "execution_count": 50,
     "metadata": {},
     "output_type": "execute_result"
    }
   ],
   "source": [
    "img13 = img12.copy()\n",
    "for coord in final_lower_crests:\n",
    "    cv2.circle(img13,(coord[1],coord[0]),4,200,1)\n",
    "cv2.imshow('final_lower_crests',img13)\n",
    "cv2.waitKey(0)\n",
    "cv2.imwrite('root&crests.jpg',img13)"
   ]
  },
  {
   "cell_type": "code",
   "execution_count": 51,
   "metadata": {},
   "outputs": [
    {
     "data": {
      "text/plain": [
       "-1"
      ]
     },
     "execution_count": 51,
     "metadata": {},
     "output_type": "execute_result"
    }
   ],
   "source": [
    "img14 = img13.copy()\n",
    "cv2.line(img14,(final_upper_crests[0][1],final_upper_crests[0][0]),(final_upper_crests[-1][1],final_upper_crests[-1][0]),200,1)\n",
    "cv2.line(img14,(final_upper_roots[0][1],final_upper_roots[0][0]),(final_upper_roots[-1][1],final_upper_roots[-1][0]),200,1)\n",
    "cv2.line(img14,(final_lower_roots[0][1],final_lower_roots[0][0]),(final_lower_roots[-1][1],final_lower_roots[-1][0]),200,1)\n",
    "cv2.line(img14,(final_lower_crests[0][1],final_lower_crests[0][0]),(final_lower_crests[-1][1],final_lower_crests[-1][0]),200,1)\n",
    "cv2.imshow('lines',img14)\n",
    "cv2.waitKey(0)"
   ]
  },
  {
   "cell_type": "code",
   "execution_count": 52,
   "metadata": {},
   "outputs": [
    {
     "name": "stdout",
     "output_type": "stream",
     "text": [
      "Mean pitch in pixel distance:29.57759456701729 pixels\n"
     ]
    }
   ],
   "source": [
    "pitch_list = []\n",
    "for i in range(len(final_upper_crests)-1):\n",
    "    X1 = final_upper_crests[i][0]\n",
    "    Y1 = final_upper_crests[i][1]\n",
    "    X2 = final_upper_crests[i+1][0]\n",
    "    Y2 = final_upper_crests[i+1][1]\n",
    "    dist = m.sqrt((X2-X1)**2 + (Y2-Y1)**2)\n",
    "    pitch_list.append(dist)\n",
    "for i in range(len(final_upper_roots)-1):\n",
    "    X1 = final_upper_roots[i][0]\n",
    "    Y1 = final_upper_roots[i][1]\n",
    "    X2 = final_upper_roots[i+1][0]\n",
    "    Y2 = final_upper_roots[i+1][1]\n",
    "    dist = m.sqrt((X2-X1)**2 + (Y2-Y1)**2)\n",
    "    pitch_list.append(dist)\n",
    "for i in range(len(final_lower_roots)-1):\n",
    "    X1 = final_lower_roots[i][0]\n",
    "    Y1 = final_lower_roots[i][1]\n",
    "    X2 = final_lower_roots[i+1][0]\n",
    "    Y2 = final_lower_roots[i+1][1]\n",
    "    dist = m.sqrt((X2-X1)**2 + (Y2-Y1)**2)\n",
    "    pitch_list.append(dist)\n",
    "for i in range(len(final_lower_crests)-1):\n",
    "    X1 = final_lower_crests[i][0]\n",
    "    Y1 = final_lower_crests[i][1]\n",
    "    X2 = final_lower_crests[i+1][0]\n",
    "    Y2 = final_lower_crests[i+1][1]\n",
    "    dist = m.sqrt((X2-X1)**2 + (Y2-Y1)**2)\n",
    "    pitch_list.append(dist)\n",
    "\n",
    "print(\"Mean pitch in pixel distance:\"+str(sum(pitch_list)/len(pitch_list))+\" pixels\")    "
   ]
  },
  {
   "cell_type": "code",
   "execution_count": 53,
   "metadata": {},
   "outputs": [
    {
     "data": {
      "text/plain": [
       "(872, 1193, 3)"
      ]
     },
     "execution_count": 53,
     "metadata": {},
     "output_type": "execute_result"
    }
   ],
   "source": [
    "conversion = cv2.imread('mm_measure6.jpg',1)\n",
    "cv2.imshow('crop',conversion)\n",
    "cv2.waitKey(0)\n",
    "conversion.shape"
   ]
  },
  {
   "cell_type": "code",
   "execution_count": 54,
   "metadata": {},
   "outputs": [
    {
     "name": "stdout",
     "output_type": "stream",
     "text": [
      "Pitch of the screw:1.2396309541918396 mm\n"
     ]
    }
   ],
   "source": [
    "#1193 pixels = 50mm\n",
    "pixels_per_metric = 50/1193\n",
    "mean_pitch = sum(pitch_list)/len(pitch_list)\n",
    "print(\"Pitch of the screw:\"+str(pixels_per_metric * mean_pitch)+\" mm\")"
   ]
  },
  {
   "cell_type": "code",
   "execution_count": 55,
   "metadata": {},
   "outputs": [
    {
     "name": "stdout",
     "output_type": "stream",
     "text": [
      "11\n",
      "1907\n",
      "Length of the screw:79.46353730092206 mm\n"
     ]
    }
   ],
   "source": [
    "temp = canny.copy()\n",
    "\n",
    "for c in range(temp.shape[1]):\n",
    "    if 255 in temp[:,c]:\n",
    "        min2 = c\n",
    "        break\n",
    "for c in range(temp.shape[1]-1,-1,-1):\n",
    "    if 255 in temp[:,c]:\n",
    "        max2 = c\n",
    "        break\n",
    "print(min2)\n",
    "print(max2)\n",
    "print('Length of the screw:'+str((max2-min2)*pixels_per_metric)+' mm')"
   ]
  },
  {
   "cell_type": "code",
   "execution_count": 56,
   "metadata": {},
   "outputs": [
    {
     "name": "stdout",
     "output_type": "stream",
     "text": [
      "Depth of screw threads:0.6187646990857084 mm\n"
     ]
    }
   ],
   "source": [
    "depth_list = []\n",
    "\n",
    "Y1,X1 = final_upper_roots[0][0] , final_upper_roots[0][1]\n",
    "Y2,X2 = final_upper_roots[-1][0] , final_upper_roots[-1][1]\n",
    "for coord in final_upper_crests:\n",
    "    Y3,X3 = coord[0],coord[1]\n",
    "    pd = (((X2-X1)*(Y1-Y3)) - ((X1-X3)*(Y2-Y1)))/m.sqrt((X2-X1)**2 + (Y2-Y1)**2)\n",
    "    depth_list.append(abs(pd))\n",
    "\n",
    "Y1,X1 = final_lower_crests[0][0] , final_lower_crests[0][1]\n",
    "Y2,X2 = final_lower_crests[-1][0] , final_lower_crests[-1][1]\n",
    "for coord in final_lower_roots:\n",
    "    Y3,X3 = coord[0],coord[1]\n",
    "    pd = (((X2-X1)*(Y1-Y3)) - ((X1-X3)*(Y2-Y1)))/m.sqrt((X2-X1)**2 + (Y2-Y1)**2)\n",
    "    depth_list.append(abs(pd))\n",
    "mean_depth = sum(depth_list)/len(depth_list)\n",
    "print(\"Depth of screw threads:\"+str(mean_depth*pixels_per_metric)+\" mm\")"
   ]
  },
  {
   "cell_type": "code",
   "execution_count": 57,
   "metadata": {},
   "outputs": [
    {
     "name": "stdout",
     "output_type": "stream",
     "text": [
      "Major Diameter of screw:5.851208853791424 mm\n"
     ]
    }
   ],
   "source": [
    "major_dia_list = []\n",
    "Y1,X1 = final_lower_crests[0][0] , final_lower_crests[0][1]\n",
    "Y2,X2 = final_lower_crests[-1][0] , final_lower_crests[-1][1]\n",
    "for coord in final_upper_crests:\n",
    "    Y3,X3 = coord[0],coord[1]\n",
    "    pd = (((X2-X1)*(Y1-Y3)) - ((X1-X3)*(Y2-Y1)))/m.sqrt((X2-X1)**2 + (Y2-Y1)**2)\n",
    "    major_dia_list.append(abs(pd))\n",
    "mean_major_dia = sum(major_dia_list)/len(major_dia_list)\n",
    "print(\"Major Diameter of screw:\"+str(mean_major_dia*pixels_per_metric)+\" mm\")"
   ]
  },
  {
   "cell_type": "code",
   "execution_count": 58,
   "metadata": {},
   "outputs": [
    {
     "name": "stdout",
     "output_type": "stream",
     "text": [
      "Minor Diameter of screw:4.618683649874743 mm\n"
     ]
    }
   ],
   "source": [
    "minor_dia_list = []\n",
    "Y1,X1 = final_lower_roots[0][0] , final_lower_roots[0][1]\n",
    "Y2,X2 = final_lower_roots[-1][0] , final_lower_roots[-1][1]\n",
    "for coord in final_upper_roots:\n",
    "    Y3,X3 = coord[0],coord[1]\n",
    "    pd = (((X2-X1)*(Y1-Y3)) - ((X1-X3)*(Y2-Y1)))/m.sqrt((X2-X1)**2 + (Y2-Y1)**2)\n",
    "    minor_dia_list.append(abs(pd))\n",
    "mean_minor_dia = sum(minor_dia_list)/len(minor_dia_list)\n",
    "print(\"Minor Diameter of screw:\"+str(mean_minor_dia*pixels_per_metric)+\" mm\")"
   ]
  },
  {
   "cell_type": "code",
   "execution_count": 59,
   "metadata": {},
   "outputs": [
    {
     "name": "stdout",
     "output_type": "stream",
     "text": [
      "4.613679455620007\n"
     ]
    }
   ],
   "source": [
    "print((mean_major_dia*pixels_per_metric) - 2*(mean_depth*pixels_per_metric))"
   ]
  },
  {
   "cell_type": "code",
   "execution_count": 60,
   "metadata": {},
   "outputs": [
    {
     "name": "stdout",
     "output_type": "stream",
     "text": [
      "[25.432641426936428, 24.2584121015626, 25.74356761730138, 26.565051177077997, 24.590117166196016, 29.989364816050283, 22.75097634278764, 27.71850162818336, 23.535800945779528, 27.71850162818336, 26.565051177077997, 28.830968312390375]\n",
      "Thread angle of the thread:26.141579528293914°\n"
     ]
    }
   ],
   "source": [
    "included_angle_list = []\n",
    "for i in range(min(len(final_lower_roots),len(final_lower_crests))-1):\n",
    "    (y1,x1) = (final_lower_crests[i][0],final_lower_crests[i][1])\n",
    "    (y2,x2) = (final_lower_crests[i+1][0],final_lower_crests[i+1][1])\n",
    "    (y3,x3) = (final_lower_roots[i+1][0],final_lower_roots[i+1][1])\n",
    "    m1 = (y1-y3)/(x1-x3)\n",
    "    m2 = (y2-y3)/(x2-x3)\n",
    "    tan_theta = abs((m1-m2)/(1+m1*m2))\n",
    "    included_angle_list.append(tan_theta)\n",
    "included_angle_list = [m.atan(y)*180/m.pi for y in included_angle_list]\n",
    "print(included_angle_list)\n",
    "print(\"Thread angle of the thread:\"+str(sum(included_angle_list)/len(included_angle_list))+u\"\\u00b0\")"
   ]
  },
  {
   "cell_type": "code",
   "execution_count": 61,
   "metadata": {},
   "outputs": [
    {
     "data": {
      "text/plain": [
       "-1"
      ]
     },
     "execution_count": 61,
     "metadata": {},
     "output_type": "execute_result"
    }
   ],
   "source": [
    "img2 = canny.copy()\n",
    "img2 = img2[:,1500:]\n",
    "cv2.imshow('canny',img2)\n",
    "cv2.waitKey(0)"
   ]
  },
  {
   "cell_type": "code",
   "execution_count": 62,
   "metadata": {},
   "outputs": [
    {
     "data": {
      "text/plain": [
       "-1"
      ]
     },
     "execution_count": 62,
     "metadata": {},
     "output_type": "execute_result"
    }
   ],
   "source": [
    "img3 = img2.copy()\n",
    "a = np.zeros((img3.shape[0],img3.shape[1]))\n",
    "for c in range(img3.shape[1]):\n",
    "    for r in range(img3.shape[0]):\n",
    "        if img3[r,c]==255:\n",
    "            a[r,c]=255\n",
    "            break\n",
    "cv2.imshow('Upper Pixels', a)\n",
    "cv2.waitKey(0)\n",
    "for c in range(img3.shape[1]-1,0,-1):\n",
    "    for r in range(img3.shape[0]-1,0,-1):\n",
    "        if img3[r,c]==255:\n",
    "            a[r,c]=255\n",
    "            break\n",
    "cv2.imshow('Lower pixels', a)\n",
    "cv2.waitKey(0)"
   ]
  },
  {
   "cell_type": "code",
   "execution_count": 63,
   "metadata": {},
   "outputs": [
    {
     "data": {
      "text/plain": [
       "-1"
      ]
     },
     "execution_count": 63,
     "metadata": {},
     "output_type": "execute_result"
    }
   ],
   "source": [
    "cv2.imshow('thinned',a)\n",
    "cv2.waitKey(0)"
   ]
  },
  {
   "cell_type": "code",
   "execution_count": 64,
   "metadata": {},
   "outputs": [
    {
     "name": "stdout",
     "output_type": "stream",
     "text": [
      "(370, 429)\n",
      "330\n"
     ]
    }
   ],
   "source": [
    "img4 = a.copy()\n",
    "print(img4.shape)\n",
    "for i in range(img4.shape[0]-1,-1,-1):\n",
    "    if 255 in img4[i,:]:\n",
    "        i1 = i\n",
    "        break\n",
    "print(i1)"
   ]
  },
  {
   "cell_type": "code",
   "execution_count": 65,
   "metadata": {},
   "outputs": [
    {
     "data": {
      "text/plain": [
       "-1"
      ]
     },
     "execution_count": 65,
     "metadata": {},
     "output_type": "execute_result"
    }
   ],
   "source": [
    "img4 = a.copy()\n",
    "lines = []\n",
    "for j in range(img4.shape[1]):\n",
    "    if img4[i1,j] == 255:\n",
    "        lines.append((i1,j))\n",
    "for coord in lines:\n",
    "    cv2.circle(img4,(coord[1],coord[0]),5,200,1)\n",
    "cv2.imshow('image',img4)\n",
    "cv2.waitKey(0)"
   ]
  },
  {
   "cell_type": "code",
   "execution_count": 66,
   "metadata": {},
   "outputs": [
    {
     "name": "stdout",
     "output_type": "stream",
     "text": [
      "(370, 429)\n",
      "31\n"
     ]
    }
   ],
   "source": [
    "img5 = a.copy()\n",
    "print(img5.shape)\n",
    "for i in range(img4.shape[0]):\n",
    "    if 255 in img4[i,:]:\n",
    "        i2 = i\n",
    "        break\n",
    "print(i2)"
   ]
  },
  {
   "cell_type": "code",
   "execution_count": 67,
   "metadata": {},
   "outputs": [
    {
     "data": {
      "text/plain": [
       "-1"
      ]
     },
     "execution_count": 67,
     "metadata": {},
     "output_type": "execute_result"
    }
   ],
   "source": [
    "img5 = a.copy()\n",
    "lines2 = []\n",
    "for j in range(img5.shape[1]):\n",
    "    if img5[i2,j] == 255:\n",
    "        lines2.append((i2,j))\n",
    "while len(lines2)<=3:\n",
    "    lines2 = []\n",
    "    i2 = i2+1\n",
    "    for j in range(img5.shape[1]):\n",
    "        if img5[i2,j] == 255:\n",
    "            lines2.append((i2,j))\n",
    "    \n",
    "for coord in lines2:\n",
    "    cv2.circle(img5,(coord[1],coord[0]),5,200,1)\n",
    "cv2.imshow('image',img5)\n",
    "cv2.waitKey(0)"
   ]
  },
  {
   "cell_type": "code",
   "execution_count": 68,
   "metadata": {},
   "outputs": [
    {
     "name": "stdout",
     "output_type": "stream",
     "text": [
      "The collar diameter of the screw:4.697019146909225 mm\n"
     ]
    }
   ],
   "source": [
    "collar_dia_list = []\n",
    "y1,x1 = lines[0][0],lines[0][1]\n",
    "y2,x2 = lines[-1][0],lines[-1][1]\n",
    "for coord in lines2:\n",
    "    y3,x3 = coord[0],coord[1]\n",
    "    pd = (((X2-X1)*(Y1-Y3)) - ((X1-X3)*(Y2-Y1)))/m.sqrt((X2-X1)**2 + (Y2-Y1)**2)\n",
    "    collar_dia_list.append(abs(pd))\n",
    "    \n",
    "print(\"The collar diameter of the screw:\"+str(sum(collar_dia_list)/len(collar_dia_list)*pixels_per_metric)+\" mm\")"
   ]
  },
  {
   "cell_type": "code",
   "execution_count": 69,
   "metadata": {},
   "outputs": [
    {
     "name": "stdout",
     "output_type": "stream",
     "text": [
      "(370, 429)\n",
      "(370, 179)\n"
     ]
    }
   ],
   "source": [
    "img6 = a.copy()\n",
    "cv2.imshow('image',img6)\n",
    "cv2.waitKey(0)\n",
    "print(img6.shape)\n",
    "img6 = img6[:,250:]\n",
    "cv2.imshow('image',img6)\n",
    "cv2.waitKey(0)\n",
    "print(img6.shape)"
   ]
  },
  {
   "cell_type": "code",
   "execution_count": 70,
   "metadata": {},
   "outputs": [
    {
     "data": {
      "text/plain": [
       "-1"
      ]
     },
     "execution_count": 70,
     "metadata": {},
     "output_type": "execute_result"
    }
   ],
   "source": [
    "head = cv2.imread('screw_head7.jpg',1)\n",
    "head = cv2.cvtColor(head,cv2.COLOR_BGR2GRAY)\n",
    "cv2.imshow('head',head)\n",
    "cv2.waitKey(0)\n",
    "head.shape\n",
    "_,thresh1 = cv2.threshold(head,150,250,cv2.THRESH_BINARY)\n",
    "cv2.imshow('head',thresh1)\n",
    "cv2.waitKey(0)"
   ]
  },
  {
   "cell_type": "code",
   "execution_count": 71,
   "metadata": {},
   "outputs": [
    {
     "data": {
      "text/plain": [
       "-1"
      ]
     },
     "execution_count": 71,
     "metadata": {},
     "output_type": "execute_result"
    }
   ],
   "source": [
    "head2 = head.copy()\n",
    "\n",
    "#Below code creates a track bar to set the parameters for canny edge detection. I have hard coded the value for users convinence \n",
    "\n",
    "# cv2.namedWindow('Shape Detect')\n",
    "# cv2.createTrackbar('Thresh1','Shape Detect',0,255,nothing)\n",
    "# cv2.createTrackbar('Thresh2','Shape Detect',0,255,nothing)\n",
    "# t3 = t4 = 0\n",
    "# while(1):\n",
    "#     #_,thresh1 = cv2.threshold(head,t3,t4,cv2.THRESH_TOZERO)\n",
    "#     head_canny = cv2.Canny(head2,t3,t4)\n",
    "#     cv2.imshow('Shape Detect',head_canny)\n",
    "#     z = cv2.waitKey(1) & 0xFF\n",
    "#     if z == 27:#Esc Key for terminating\n",
    "#         break\n",
    "#     t3 = cv2.getTrackbarPos('Thresh1','Shape Detect')\n",
    "#     t4 = cv2.getTrackbarPos('Thresh2','Shape Detect')\n",
    "# cv2.destroyAllWindows()\n",
    "\n",
    "t3=128\n",
    "t4=49\n",
    "head_canny = cv2.Canny(head2,t3,t4)\n",
    "cv2.imshow('Shape Detect',head_canny)\n",
    "cv2.waitKey(0)"
   ]
  },
  {
   "cell_type": "code",
   "execution_count": 72,
   "metadata": {},
   "outputs": [
    {
     "name": "stdout",
     "output_type": "stream",
     "text": [
      "(251, 13)\n",
      "(253, 538)\n",
      "(521, 556)\n",
      "(1202, 266, 3)\n",
      "Across corner of the screw:11.842191191954619 mm\n",
      "486\n",
      "(521, 556)\n",
      "Across flat of screw:10.330827067669173 mm\n"
     ]
    }
   ],
   "source": [
    "fin_img = head_canny.copy()\n",
    "for y in range(fin_img.shape[1]):\n",
    "    for x in range(fin_img.shape[0]):\n",
    "        if (fin_img[x,y])==255:\n",
    "            min_x,min_y = x,y\n",
    "            break\n",
    "        \n",
    "for y in range(fin_img.shape[1]-1,-1,-1):\n",
    "    for x in range(fin_img.shape[0]):\n",
    "        if (fin_img[x,y])==255:\n",
    "            max_x,max_y = x,y\n",
    "            break\n",
    "    \n",
    "print((max_x,max_y))\n",
    "print((min_x,min_y))\n",
    "cop = fin_img.copy()\n",
    "cv2.line(cop,(min_y,min_x),(max_y,max_x),200,1)\n",
    "cv2.imshow('lined',cop)\n",
    "cv2.waitKey(0)\n",
    "print(cop.shape)\n",
    "cv2.imwrite('acrcor.jpg',cop)\n",
    "ppm_meas = cv2.imread('mm_measure7.jpg',1)\n",
    "print(ppm_meas.shape)\n",
    "#456 pixels = 12mm\n",
    "ppm = 6/ppm_meas.shape[1] \n",
    "print(\"Across corner of the screw:\"+str(m.sqrt((max_x-min_x)**2 + (max_y-min_y)**2) * ppm)+\" mm\")\n",
    "for i in range(cop.shape[0]-1,-1,-1):\n",
    "    if 255 in cop[i,:]:\n",
    "        i1 = i\n",
    "        break\n",
    "print(i1)\n",
    "img15 = cop.copy()\n",
    "print(img15.shape)\n",
    "lines = []\n",
    "for j in range(img15.shape[1]):\n",
    "    if img15[i1,j] == 255:\n",
    "        lines.append((i1,j))\n",
    "while len(lines)<=3:\n",
    "    lines = []\n",
    "    i1 = i1+1\n",
    "    for j in range(img15.shape[1]):\n",
    "        if img15[i1,j] == 255:\n",
    "            lines.append((i1,j))\n",
    "for coord in lines:\n",
    "    cv2.circle(img15,(coord[1],coord[0]),5,200,1)\n",
    "cv2.imshow('image',img15)\n",
    "cv2.waitKey(0)\n",
    "cv2\n",
    "\n",
    "for i in range(cop.shape[0]):\n",
    "    if 255 in cop[i,:]:\n",
    "        i2 = i\n",
    "        break\n",
    "#print(i2)\n",
    "img16 = img15.copy()\n",
    "lines2 = []\n",
    "for j in range(img16.shape[1]):\n",
    "    if img16[i2,j] == 255:\n",
    "        lines2.append((i2,j))\n",
    "while len(lines2)<=3:\n",
    "    lines2 = []\n",
    "    i2 = i2+1\n",
    "    for j in range(img16.shape[1]):\n",
    "        if img16[i2,j] == 255:\n",
    "            lines2.append((i2,j))\n",
    "    \n",
    "for coord in lines2:\n",
    "    cv2.circle(img16,(coord[1],coord[0]),5,200,1)\n",
    "cv2.imshow('image',img16)\n",
    "cv2.waitKey(0)\n",
    "cv2.imwrite('acrflt.jpg',img16)\n",
    "\n",
    "across_flat_list = []\n",
    "\n",
    "Y1,X1 = lines[0][0] , lines[0][1]\n",
    "Y2,X2 = lines[-1][0] , lines[-1][1]\n",
    "for coord in lines2:\n",
    "    Y3,X3 = coord[0],coord[1]\n",
    "    pd = (((X2-X1)*(Y1-Y3)) - ((X1-X3)*(Y2-Y1)))/m.sqrt((X2-X1)**2 + (Y2-Y1)**2)\n",
    "    across_flat_list.append(abs(pd))\n",
    "    \n",
    "mean_across_flat = sum(across_flat_list)/len(across_flat_list)\n",
    "print(\"Across flat of screw:\"+str(mean_across_flat*ppm)+\" mm\")"
   ]
  },
  {
   "cell_type": "code",
   "execution_count": 74,
   "metadata": {},
   "outputs": [
    {
     "name": "stdout",
     "output_type": "stream",
     "text": [
      "(109, 0) (124, 11)\n"
     ]
    }
   ],
   "source": [
    "pitchby4 = (sum(pitch_list)/len(pitch_list))/4\n",
    "\n",
    "print(final_upper_crests[0],final_upper_roots[0])"
   ]
  },
  {
   "cell_type": "code",
   "execution_count": 75,
   "metadata": {},
   "outputs": [
    {
     "data": {
      "text/plain": [
       "-1"
      ]
     },
     "execution_count": 75,
     "metadata": {},
     "output_type": "execute_result"
    }
   ],
   "source": [
    "cv2.imshow('image',img10)\n",
    "cv2.waitKey(0)"
   ]
  },
  {
   "cell_type": "code",
   "execution_count": 76,
   "metadata": {},
   "outputs": [],
   "source": [
    "temp_img = img10.copy()\n",
    "temp_img = cv2.cvtColor(temp_img,cv2.COLOR_GRAY2BGR)\n",
    "cv2.circle(temp_img,(int((final_upper_crests[0][1]+final_upper_roots[0][1])/2),int((final_upper_crests[0][0]+final_upper_roots[0][0])/2)),3,(0,255,0),1)\n",
    "cv2.imshow('temp_img',temp_img)\n",
    "cv2.waitKey(0)\n",
    "temp_img = cv2.cvtColor(temp_img,cv2.COLOR_BGR2GRAY)"
   ]
  },
  {
   "cell_type": "code",
   "execution_count": 77,
   "metadata": {},
   "outputs": [
    {
     "name": "stdout",
     "output_type": "stream",
     "text": [
      "[(110, 2)]\n",
      "[(121, 7)]\n"
     ]
    }
   ],
   "source": [
    "p1 = []\n",
    "for x in range(final_upper_crests[0][0]+1,int((final_upper_crests[0][0]+final_upper_roots[0][0])/2)):\n",
    "    for y in range(final_upper_crests[0][1]+1,int((final_upper_crests[0][1]+final_upper_roots[0][1])/2)):\n",
    "        if int(temp_img[x][y]) == 255:\n",
    "            p1.append((x,y))\n",
    "print(p1)\n",
    "\n",
    "p1 = []\n",
    "for x in range(int((final_upper_crests[0][0]+final_upper_roots[0][0])/2)+1,final_upper_roots[0][0]):\n",
    "    for y in range(int((final_upper_crests[0][1]+final_upper_roots[0][1])/2)+1,final_upper_roots[0][1]):\n",
    "        if int(temp_img[x][y]) == 255:\n",
    "            p1.append((x,y))\n",
    "print(p1)"
   ]
  },
  {
   "cell_type": "code",
   "execution_count": 78,
   "metadata": {},
   "outputs": [
    {
     "data": {
      "text/plain": [
       "True"
      ]
     },
     "execution_count": 78,
     "metadata": {},
     "output_type": "execute_result"
    }
   ],
   "source": [
    "cv2.imwrite('thinned.jpg',a)\n",
    "cv2.imwrite('midp.jpg',temp_img)"
   ]
  },
  {
   "cell_type": "code",
   "execution_count": null,
   "metadata": {},
   "outputs": [],
   "source": []
  }
 ],
 "metadata": {
  "kernelspec": {
   "display_name": "Python 3",
   "language": "python",
   "name": "python3"
  },
  "language_info": {
   "codemirror_mode": {
    "name": "ipython",
    "version": 3
   },
   "file_extension": ".py",
   "mimetype": "text/x-python",
   "name": "python",
   "nbconvert_exporter": "python",
   "pygments_lexer": "ipython3",
   "version": "3.6.5"
  }
 },
 "nbformat": 4,
 "nbformat_minor": 2
}
